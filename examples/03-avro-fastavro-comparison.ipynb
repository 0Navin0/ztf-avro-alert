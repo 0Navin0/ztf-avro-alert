{
 "cells": [
  {
   "cell_type": "markdown",
   "metadata": {},
   "source": [
    "# avro vs. fastavro serialization performance\n",
    "Testing speedup of the more limited fastavro module over the standard avro library with full functionality."
   ]
  },
  {
   "cell_type": "code",
   "execution_count": 1,
   "metadata": {
    "collapsed": false
   },
   "outputs": [],
   "source": [
    "#!pip install avro-python3\n",
    "#!pip install fastavro"
   ]
  },
  {
   "cell_type": "code",
   "execution_count": 2,
   "metadata": {
    "collapsed": false
   },
   "outputs": [],
   "source": [
    "import os\n",
    "import sys\n",
    "import io\n",
    "import json\n",
    "import fastavro\n",
    "import avro.schema\n",
    "import avro.io"
   ]
  },
  {
   "cell_type": "markdown",
   "metadata": {},
   "source": [
    "## Writing data with a simple schema (non-nested)"
   ]
  },
  {
   "cell_type": "markdown",
   "metadata": {},
   "source": [
    "Schema with no defaults set for nullable items."
   ]
  },
  {
   "cell_type": "code",
   "execution_count": 3,
   "metadata": {
    "collapsed": false
   },
   "outputs": [
    {
     "name": "stdout",
     "output_type": "stream",
     "text": [
      "avro schema:\n",
      " {\"type\": \"record\", \"name\": \"diaSource\", \"fields\": [{\"type\": \"long\", \"name\": \"diaSourceId\"}, {\"type\": \"long\", \"name\": \"ccdVisitId\"}, {\"type\": [\"long\", \"null\"], \"name\": \"diaObjectId\"}, {\"type\": [\"long\", \"null\"], \"name\": \"ssObjectId\"}, {\"type\": [\"long\", \"null\"], \"name\": \"parentSourceId\"}, {\"type\": \"double\", \"name\": \"midPointTai\"}, {\"type\": \"string\", \"name\": \"filterName\"}, {\"type\": [{\"type\": \"record\", \"name\": \"Radec\", \"fields\": [{\"type\": \"double\", \"name\": \"ra\"}, {\"type\": \"double\", \"name\": \"dec\"}], \"namespace\": \"lsst.alert\"}], \"name\": \"radec\"}, {\"type\": \"float\", \"name\": \"raSigma\"}, {\"type\": \"float\", \"name\": \"decSigma\"}, {\"type\": \"float\", \"name\": \"ra_dec_Cov\"}, {\"type\": \"float\", \"name\": \"x\"}, {\"type\": \"float\", \"name\": \"y\"}, {\"type\": \"float\", \"name\": \"xSigma\"}, {\"type\": \"float\", \"name\": \"ySigma\"}, {\"type\": \"float\", \"name\": \"x_y_Cov\"}, {\"type\": \"float\", \"name\": \"snr\"}, {\"type\": \"float\", \"name\": \"psFlux\"}], \"namespace\": \"lsst.alert\"} \n",
      "\n"
     ]
    }
   ],
   "source": [
    "simple = \"\"\"{\n",
    "\t\"namespace\": \"lsst.alert\",\n",
    "\t\"type\": \"record\",\n",
    "\t\"name\": \"diaSource\",\n",
    "\t\"fields\": [\n",
    "\t\t{\"name\": \"diaSourceId\", \"type\": \"long\"},\n",
    "\t\t{\"name\": \"ccdVisitId\",  \"type\": \"long\"},\n",
    "\t\t{\"name\": \"diaObjectId\", \"type\": [\"long\", \"null\"]},\n",
    "\t\t{\"name\": \"ssObjectId\", \"type\": [\"long\", \"null\"]},\n",
    "\t\t{\"name\": \"parentSourceId\", \"type\": [\"long\", \"null\"]},\n",
    "\t\t{\"name\": \"midPointTai\", \"type\": \"double\"},\n",
    "\t\t{\"name\": \"filterName\", \"type\": \"string\"},\n",
    "\t\t{\"name\": \"radec\", \"type\": [{\"type\": \"record\",\n",
    "\t\t\t\"name\": \"Radec\", \"fields\": [\n",
    "\t\t\t{\"name\": \"ra\", \"type\": \"double\"},\n",
    "\t\t\t{\"name\": \"dec\", \"type\": \"double\"}\n",
    "\t\t]}]},\n",
    "\t\t\t{\"name\": \"raSigma\", \"type\": \"float\"},\n",
    "\t\t\t{\"name\": \"decSigma\", \"type\": \"float\"},\n",
    "\t\t\t{\"name\": \"ra_dec_Cov\", \"type\": \"float\"},\n",
    "\t\t\t{\"name\": \"x\", \"type\": \"float\"},\n",
    "\t\t\t{\"name\": \"y\", \"type\": \"float\"},\n",
    "\t\t\t{\"name\": \"xSigma\", \"type\": \"float\"},\n",
    "\t\t\t{\"name\": \"ySigma\", \"type\": \"float\"},\n",
    "\t\t\t{\"name\": \"x_y_Cov\", \"type\": \"float\"},\n",
    "            {\"name\": \"snr\", \"type\": \"float\"},\n",
    "\t\t{\"name\": \"psFlux\", \"type\": \"float\"}\n",
    "\t]\n",
    "}\n",
    "\"\"\"\n",
    "\n",
    "simple_schema = avro.schema.Parse(simple)\n",
    "print(\"avro schema:\\n %s \\n\" % simple_schema)"
   ]
  },
  {
   "cell_type": "markdown",
   "metadata": {},
   "source": [
    "Schema with default=null set for nullable items."
   ]
  },
  {
   "cell_type": "code",
   "execution_count": 4,
   "metadata": {
    "collapsed": false
   },
   "outputs": [
    {
     "name": "stdout",
     "output_type": "stream",
     "text": [
      "avro schema with default = null \n",
      " {\"type\": \"record\", \"name\": \"diaSource\", \"fields\": [{\"type\": \"long\", \"name\": \"diaSourceId\"}, {\"type\": \"long\", \"name\": \"ccdVisitId\"}, {\"type\": [\"long\", \"null\"], \"name\": \"diaObjectId\", \"default\": null}, {\"type\": [\"long\", \"null\"], \"name\": \"ssObjectId\", \"default\": null}, {\"type\": [\"long\", \"null\"], \"name\": \"parentSourceId\", \"default\": null}, {\"type\": \"double\", \"name\": \"midPointTai\"}, {\"type\": \"string\", \"name\": \"filterName\"}, {\"type\": [{\"type\": \"record\", \"name\": \"Radec\", \"fields\": [{\"type\": \"double\", \"name\": \"ra\"}, {\"type\": \"double\", \"name\": \"dec\"}], \"namespace\": \"lsst.alert\"}], \"name\": \"radec\"}, {\"type\": \"float\", \"name\": \"raSigma\"}, {\"type\": \"float\", \"name\": \"decSigma\"}, {\"type\": \"float\", \"name\": \"ra_dec_Cov\"}, {\"type\": \"float\", \"name\": \"x\"}, {\"type\": \"float\", \"name\": \"y\"}, {\"type\": \"float\", \"name\": \"xSigma\"}, {\"type\": \"float\", \"name\": \"ySigma\"}, {\"type\": \"float\", \"name\": \"x_y_Cov\"}, {\"type\": \"float\", \"name\": \"snr\"}, {\"type\": \"float\", \"name\": \"psFlux\"}], \"namespace\": \"lsst.alert\"} \n",
      "\n"
     ]
    }
   ],
   "source": [
    "simple_null = \"\"\"\n",
    "{\n",
    "\t\"namespace\": \"lsst.alert\",\n",
    "\t\"type\": \"record\",\n",
    "\t\"name\": \"diaSource\",\n",
    "\t\"fields\": [\n",
    "\t\t{\"name\": \"diaSourceId\", \"type\": \"long\"},\n",
    "\t\t{\"name\": \"ccdVisitId\",  \"type\": \"long\"},\n",
    "\t\t{\"name\": \"diaObjectId\", \"type\": [\"long\", \"null\"], \"default\": null},\n",
    "\t\t{\"name\": \"ssObjectId\", \"type\": [\"long\", \"null\"], \"default\": null},\n",
    "\t\t{\"name\": \"parentSourceId\", \"type\": [\"long\", \"null\"] , \"default\": null},\n",
    "\t\t{\"name\": \"midPointTai\", \"type\": \"double\"},\n",
    "\t\t{\"name\": \"filterName\", \"type\": \"string\"},\n",
    "\t\t{\"name\": \"radec\", \"type\": [{\"type\": \"record\",\n",
    "\t\t\t\"name\": \"Radec\", \"fields\": [\n",
    "\t\t\t{\"name\": \"ra\", \"type\": \"double\"},\n",
    "\t\t\t{\"name\": \"dec\", \"type\": \"double\"}\n",
    "\t\t]}]},\n",
    "\t\t\t{\"name\": \"raSigma\", \"type\": \"float\"},\n",
    "\t\t\t{\"name\": \"decSigma\", \"type\": \"float\"},\n",
    "\t\t\t{\"name\": \"ra_dec_Cov\", \"type\": \"float\"},\n",
    "\t\t\t{\"name\": \"x\", \"type\": \"float\"},\n",
    "\t\t\t{\"name\": \"y\", \"type\": \"float\"},\n",
    "\t\t\t{\"name\": \"xSigma\", \"type\": \"float\"},\n",
    "\t\t\t{\"name\": \"ySigma\", \"type\": \"float\"},\n",
    "\t\t\t{\"name\": \"x_y_Cov\", \"type\": \"float\"},\n",
    "\t\t{\"name\": \"snr\", \"type\": \"float\"},\n",
    "\t\t{\"name\": \"psFlux\", \"type\": \"float\"}\n",
    "\t]\n",
    "}\n",
    "\"\"\"\n",
    "\n",
    "simple_null_schema = avro.schema.Parse(simple_null)\n",
    "print(\"avro schema with default = null \\n %s \\n\" % simple_null_schema)"
   ]
  },
  {
   "cell_type": "code",
   "execution_count": 5,
   "metadata": {
    "collapsed": false
   },
   "outputs": [
    {
     "name": "stdout",
     "output_type": "stream",
     "text": [
      "864\n"
     ]
    }
   ],
   "source": [
    "simple_data = {\n",
    "\t\"diaSourceId\":111111,\n",
    "\t\"ccdVisitId\":111111,\n",
    "\t\"midPointTai\":12314.142412,\n",
    "\t\"filterName\":\"my favorite filter\",\n",
    "\t\"radec\": {\n",
    "\t\t\"ra\": 124142.12414,\n",
    "\t\t\"dec\": 1214141.121\n",
    "\t\t},\n",
    "\t\"raSigma\": 5.1,\n",
    "\t\"decSigma\": 10.1,\n",
    "\t\"ra_dec_Cov\": 1.241,\n",
    "\t\"x\": 112.1,\n",
    "\t\"y\": 121.1,\n",
    "\t\"xSigma\": 1.2,\n",
    "\t\"ySigma\": 12.1,\n",
    "\t\"x_y_Cov\": 11.2,\n",
    "\t\"snr\": 41.1,\n",
    "\t\"psFlux\": 1241.0\n",
    "}\n",
    "\n",
    "print(sys.getsizeof(simple_data))"
   ]
  },
  {
   "cell_type": "code",
   "execution_count": 6,
   "metadata": {
    "collapsed": false
   },
   "outputs": [],
   "source": [
    "## avro functions\n",
    "\n",
    "def write_avro_data(data_dict, avro_schema):\n",
    "    \"\"\"Encode json with avro module into avro format given a schema.\n",
    "    \"\"\"\n",
    "    writer = avro.io.DatumWriter(avro_schema)\n",
    "    bytes_io = io.BytesIO()\n",
    "    encoder = avro.io.BinaryEncoder(bytes_io)\n",
    "    writer.write(data_dict, encoder)\n",
    "    return bytes_io\n",
    "\n",
    "\n",
    "def read_avro_data(bytes_io, avro_schema):\n",
    "    \"\"\"Read avro data with avro module and decode with a given schema.\n",
    "    \"\"\"\n",
    "    raw_bytes = bytes_io.getvalue()\n",
    "    bytes_reader = io.BytesIO(raw_bytes)\n",
    "    decoder = avro.io.BinaryDecoder(bytes_reader)\n",
    "    reader = avro.io.DatumReader(avro_schema)\n",
    "    message = reader.read(decoder)\n",
    "    return message\n",
    "\n",
    "\n",
    "## fastavro functions\n",
    "\n",
    "def write_fastavro_data(data_dict, schema_json):\n",
    "    \"\"\"Encode json with fastavro module into avro format given a schema.\n",
    "    \"\"\"\n",
    "    bytes_io = io.BytesIO()\n",
    "    fastavro.schemaless_writer(bytes_io, schema_json, data_dict)\n",
    "    return bytes_io\n",
    "\n",
    "\n",
    "def read_fastavro_data(bytes_io, schema_json):\n",
    "    \"\"\"Read avro data with fastavro module and decode with a given schema.\n",
    "    \"\"\"\n",
    "    bytes_io.seek(0)\n",
    "    message = fastavro.schemaless_reader(bytes_io, schema_json)\n",
    "    return message\n"
   ]
  },
  {
   "cell_type": "markdown",
   "metadata": {},
   "source": [
    "### Encoding data with simple schemas\n",
    "\n",
    "fastavro module needs defaults for all nullable items in order to parse schema for serializing data.  Use schemas with defaults set for both modules."
   ]
  },
  {
   "cell_type": "code",
   "execution_count": 7,
   "metadata": {
    "collapsed": false
   },
   "outputs": [],
   "source": [
    "avro_data = write_avro_data(simple_data, simple_schema)\n",
    "avro_null_data = write_avro_data(simple_data, simple_null_schema)"
   ]
  },
  {
   "cell_type": "code",
   "execution_count": 8,
   "metadata": {
    "collapsed": false
   },
   "outputs": [],
   "source": [
    "simple_null_json = simple_null_schema.to_json()\n",
    "fastavro_null_data = write_fastavro_data(simple_data, simple_null_json)"
   ]
  },
  {
   "cell_type": "markdown",
   "metadata": {},
   "source": [
    "### Decoding"
   ]
  },
  {
   "cell_type": "code",
   "execution_count": 9,
   "metadata": {
    "collapsed": false
   },
   "outputs": [
    {
     "name": "stdout",
     "output_type": "stream",
     "text": [
      "{'raSigma': 5.099999904632568, 'parentSourceId': None, 'midPointTai': 12314.142412, 'ccdVisitId': 111111, 'ySigma': 12.100000381469727, 'diaSourceId': 111111, 'xSigma': 1.2000000476837158, 'ssObjectId': None, 'snr': 41.099998474121094, 'filterName': 'my favorite filter', 'radec': {'ra': 124142.12414, 'dec': 1214141.121}, 'x_y_Cov': 11.199999809265137, 'x': 112.0999984741211, 'psFlux': 1241.0, 'y': 121.0999984741211, 'decSigma': 10.100000381469727, 'ra_dec_Cov': 1.2410000562667847, 'diaObjectId': None}\n",
      "avro data: 214\n"
     ]
    }
   ],
   "source": [
    "avro_message = read_avro_data(avro_data, simple_schema)\n",
    "print(avro_message)\n",
    "print('avro data: %s' % sys.getsizeof(avro_data))"
   ]
  },
  {
   "cell_type": "code",
   "execution_count": 10,
   "metadata": {
    "collapsed": false
   },
   "outputs": [
    {
     "name": "stdout",
     "output_type": "stream",
     "text": [
      "{'raSigma': 5.099999904632568, 'parentSourceId': None, 'midPointTai': 12314.142412, 'ccdVisitId': 111111, 'ySigma': 12.100000381469727, 'diaSourceId': 111111, 'xSigma': 1.2000000476837158, 'ssObjectId': None, 'snr': 41.099998474121094, 'filterName': 'my favorite filter', 'radec': {'ra': 124142.12414, 'dec': 1214141.121}, 'x_y_Cov': 11.199999809265137, 'x': 112.0999984741211, 'psFlux': 1241.0, 'y': 121.0999984741211, 'decSigma': 10.100000381469727, 'ra_dec_Cov': 1.2410000562667847, 'diaObjectId': None}\n",
      "avro null data: 214\n"
     ]
    }
   ],
   "source": [
    "avro_null_message = read_avro_data(avro_null_data, simple_null_schema)\n",
    "print(avro_null_message)\n",
    "print('avro null data: %s' % sys.getsizeof(avro_null_data))"
   ]
  },
  {
   "cell_type": "code",
   "execution_count": 11,
   "metadata": {
    "collapsed": false
   },
   "outputs": [
    {
     "name": "stdout",
     "output_type": "stream",
     "text": [
      "{'raSigma': 5.099999904632568, 'parentSourceId': None, 'midPointTai': 12314.142412, 'ccdVisitId': 111111, 'ySigma': 12.100000381469727, 'diaSourceId': 111111, 'xSigma': 1.2000000476837158, 'ssObjectId': None, 'snr': 41.099998474121094, 'filterName': 'my favorite filter', 'radec': {'ra': 124142.12414, 'dec': 1214141.121}, 'x_y_Cov': 11.199999809265137, 'x': 112.0999984741211, 'psFlux': 1241.0, 'y': 121.0999984741211, 'decSigma': 10.100000381469727, 'ra_dec_Cov': 1.2410000562667847, 'diaObjectId': None}\n",
      "fastavro null data: 227\n"
     ]
    }
   ],
   "source": [
    "fastavro_null_message = read_fastavro_data(fastavro_null_data, simple_null_json)\n",
    "print(fastavro_null_message)\n",
    "print('fastavro null data: %s' % sys.getsizeof(fastavro_null_data))"
   ]
  },
  {
   "cell_type": "markdown",
   "metadata": {},
   "source": [
    "### timeit"
   ]
  },
  {
   "cell_type": "code",
   "execution_count": 12,
   "metadata": {
    "collapsed": false
   },
   "outputs": [
    {
     "name": "stdout",
     "output_type": "stream",
     "text": [
      "10000 loops, best of 3: 199 µs per loop\n"
     ]
    }
   ],
   "source": [
    "writeAvroTime_simple = %timeit -o -n10000 (write_avro_data(simple_data, simple_null_schema)) "
   ]
  },
  {
   "cell_type": "code",
   "execution_count": 13,
   "metadata": {
    "collapsed": false
   },
   "outputs": [
    {
     "name": "stdout",
     "output_type": "stream",
     "text": [
      "10000 loops, best of 3: 235 µs per loop\n"
     ]
    }
   ],
   "source": [
    "readAvroTime_simple = %timeit -o -n10000 (read_avro_data(avro_null_data, simple_null_schema))"
   ]
  },
  {
   "cell_type": "code",
   "execution_count": 14,
   "metadata": {
    "collapsed": false
   },
   "outputs": [
    {
     "name": "stdout",
     "output_type": "stream",
     "text": [
      "10000 loops, best of 3: 40.6 µs per loop\n"
     ]
    }
   ],
   "source": [
    "writeFastAvroTime_simple = %timeit -o -n10000 (write_fastavro_data(simple_data, simple_null_json))"
   ]
  },
  {
   "cell_type": "code",
   "execution_count": 15,
   "metadata": {
    "collapsed": false
   },
   "outputs": [
    {
     "name": "stdout",
     "output_type": "stream",
     "text": [
      "10000 loops, best of 3: 24 µs per loop\n"
     ]
    }
   ],
   "source": [
    "readFastAvroTime_simple = %timeit -o -n10000 (read_fastavro_data(fastavro_null_data, simple_null_json))"
   ]
  },
  {
   "cell_type": "markdown",
   "metadata": {},
   "source": [
    "## Writing alert schema, no postage stamp\n",
    "The fastavro module cannot parse nested schema, so must use avro.schema."
   ]
  },
  {
   "cell_type": "code",
   "execution_count": 16,
   "metadata": {
    "collapsed": true
   },
   "outputs": [],
   "source": [
    "schema_list = ['../schema/diasource.avsc', \n",
    "               '../schema/diaobject.avsc',\n",
    "               '../schema/ssobject.avsc',\n",
    "               '../schema/cutout.avsc',\n",
    "               '../schema/alert.avsc']\n",
    "\n",
    "data_file = '../data/alert.json'\n",
    "with open(data_file) as f:\n",
    "    alert_json = json.load(f)"
   ]
  },
  {
   "cell_type": "code",
   "execution_count": 17,
   "metadata": {
    "collapsed": true
   },
   "outputs": [],
   "source": [
    "def combine_schemas(schema_files):\n",
    "    \"\"\"Combine multiple nested schemas into a single schema.\n",
    "    \"\"\"\n",
    "    known_schemas = avro.schema.Names()\n",
    "\n",
    "    for s in schema_files:\n",
    "        schema = load_single_avsc(s, known_schemas)\n",
    "    return schema\n",
    "\n",
    "\n",
    "def load_single_avsc(file_path, names):\n",
    "    \"\"\"Load a single avsc file.\n",
    "    \"\"\"\n",
    "    with open(file_path) as file_text:\n",
    "        json_data = json.load(file_text)\n",
    "    schema = avro.schema.SchemaFromJSONData(json_data, names)\n",
    "    return schema"
   ]
  },
  {
   "cell_type": "markdown",
   "metadata": {},
   "source": [
    "The fastavro schemaless writer needs a json not an avro.schema type.  Use avro.schema to combine nested schemas and convert to json for fastavro."
   ]
  },
  {
   "cell_type": "code",
   "execution_count": 18,
   "metadata": {
    "collapsed": false
   },
   "outputs": [],
   "source": [
    "alert_schema = combine_schemas(schema_list)\n",
    "alert_schema_json = alert_schema.to_json()"
   ]
  },
  {
   "cell_type": "markdown",
   "metadata": {},
   "source": [
    "### Encoding data with alert schemas\n"
   ]
  },
  {
   "cell_type": "code",
   "execution_count": 19,
   "metadata": {
    "collapsed": false
   },
   "outputs": [
    {
     "name": "stdout",
     "output_type": "stream",
     "text": [
      "avro data with alert schema: 1388 \n",
      "\n"
     ]
    }
   ],
   "source": [
    "alert_avro_data = write_avro_data(alert_json, alert_schema)\n",
    "print('avro data with alert schema: %s \\n' % sys.getsizeof(alert_avro_data))"
   ]
  },
  {
   "cell_type": "code",
   "execution_count": 20,
   "metadata": {
    "collapsed": false
   },
   "outputs": [
    {
     "name": "stdout",
     "output_type": "stream",
     "text": [
      "fastavro data with alert schema: 1304 \n",
      "\n"
     ]
    }
   ],
   "source": [
    "alert_fastavro_data = write_fastavro_data(alert_json, alert_schema_json)\n",
    "print('fastavro data with alert schema: %s \\n' % sys.getsizeof(alert_fastavro_data))"
   ]
  },
  {
   "cell_type": "markdown",
   "metadata": {},
   "source": [
    "### Decoding"
   ]
  },
  {
   "cell_type": "code",
   "execution_count": 21,
   "metadata": {
    "collapsed": false
   },
   "outputs": [
    {
     "name": "stdout",
     "output_type": "stream",
     "text": [
      "{'l1dbId': 222222222, 'prv_diaSources': [{'iyy': None, 'apFluxErr': None, 'dipChi2': None, 'apFlux': None, 'dipDecl': None, 'trailRa': None, 'trailAngle': None, 'ra': 351.570546978, 'i_cov': None, 'flags': 0, 'dipAngle': None, 'psLnL': None, 'diaObjectId': None, 'dipFluxDiff': None, 'diaSourceId': 281323062375219198, 'totFlux': None, 'iyyPSF': None, 'filterName': 'r', 'trail_Cov': None, 'dipMeanFlux': None, 'totFluxErr': None, 'dip_Cov': None, 'fpBkgd': None, 'spuriousness': None, 'ixx': None, 'ps_Cov': None, 'ccdVisitId': 111111, 'dipLength': None, 'diffFlux': None, 'ixyPSF': None, 'trailNdata': None, 'trailDecl': None, 'trailLength': None, 'decl': 0.126243049656, 'ixxPSF': None, 'trailLnL': None, 'trailFlux': None, 'dipRa': None, 'midPointTai': 1480360995.0, 'x': 112.0999984741211, 'diffFluxErr': None, 'dipLnL': None, 'trailChi2': None, 'snr': 41.099998474121094, 'psRa': None, 'psFlux': 1241.0, 'ixy': None, 'parentDiaSourceId': None, 'fpBkgdErr': None, 'psNdata': None, 'ssObjectId': None, 'x_y_Cov': {'xSigma': 1.2000000476837158, 'x_y_Cov': 1.2000000476837158, 'ySigma': 1.100000023841858}, 'psDecl': None, 'ra_decl_Cov': {'raSigma': 0.0002800000074785203, 'ra_decl_Cov': 0.0002899999963119626, 'declSigma': 0.0002800000074785203}, 'y': 121.0999984741211, 'psChi2': None, 'dipNdata': None, 'extendedness': None}, {'iyy': None, 'apFluxErr': None, 'dipChi2': None, 'apFlux': None, 'dipDecl': None, 'trailRa': None, 'trailAngle': None, 'ra': 351.570546978, 'i_cov': None, 'flags': 0, 'dipAngle': None, 'psLnL': None, 'diaObjectId': None, 'dipFluxDiff': None, 'diaSourceId': 281323062375219199, 'totFlux': None, 'iyyPSF': None, 'filterName': 'r', 'trail_Cov': None, 'dipMeanFlux': None, 'totFluxErr': None, 'dip_Cov': None, 'fpBkgd': None, 'spuriousness': None, 'ixx': None, 'ps_Cov': None, 'ccdVisitId': 111111, 'dipLength': None, 'diffFlux': None, 'ixyPSF': None, 'trailNdata': None, 'trailDecl': None, 'trailLength': None, 'decl': 0.126243049656, 'ixxPSF': None, 'trailLnL': None, 'trailFlux': None, 'dipRa': None, 'midPointTai': 1480360995.0, 'x': 112.0999984741211, 'diffFluxErr': None, 'dipLnL': None, 'trailChi2': None, 'snr': 41.099998474121094, 'psRa': None, 'psFlux': 1241.0, 'ixy': None, 'parentDiaSourceId': None, 'fpBkgdErr': None, 'psNdata': None, 'ssObjectId': None, 'x_y_Cov': {'xSigma': 1.2000000476837158, 'x_y_Cov': 1.2000000476837158, 'ySigma': 1.100000023841858}, 'psDecl': None, 'ra_decl_Cov': {'raSigma': 0.0002800000074785203, 'ra_decl_Cov': 0.0002899999963119626, 'declSigma': 0.0002800000074785203}, 'y': 121.0999984741211, 'psChi2': None, 'dipNdata': None, 'extendedness': None}], 'ssObject': {'MOID1': 3141.0, 'zH': None, 'uG2': 231.23129272460938, 'zG1': None, 'iG2': None, 'rG1': None, 'yG1Err': None, 'flags': 0, 'zG2Err': None, 'uG1': 32131.3125, 'yH': None, 'iG2Err': None, 'rG2Err': None, 'zG1Err': None, 'yG2': None, 'uG1Err': 31232.212890625, 'oe': {'aop': 344243.3, 'q': 6654.14, 'epoch': 134141.0, 'i': 5436.2344, 'e': 636.121, 'lan': 54325.34, 'M': 131.1241}, 'rH': None, 'arc': 2.124124050140381, 'iH': None, 'gG1Err': None, 'iHErr': None, 'uG2Err': 23132.23046875, 'iG1': None, 'gG2': None, 'yG2Err': None, 'rG2': None, 'orbFitNdata': 1214, 'orbFitChi2': 1341421.25, 'gHErr': None, 'rG1Err': None, 'moidLon2': 3142.23123, 'gG1': None, 'orbFitLnL': 1343141.0, 'gH': None, 'zHErr': None, 'rHErr': None, 'uHErr': 13213.212890625, 'yHErr': None, 'gG2Err': None, 'ssObjectId': 5364546, 'iG1Err': None, 'uH': 13231.2314453125, 'moidLon1': 2143.213, 'yG1': None, 'zG2': None, 'oe_Cov': None, 'MOID2': 23432.423828125}, 'cutoutDifference': None, 'cutoutTemplate': None, 'diaObjectL2': {'yPSFluxMeanErr': None, 'pmParallaxChi2': 0.00013000000035390258, 'zPSFluxMeanErr': None, 'zPSFluxNdata': None, 'nearbyObj2Dist': None, 'iPSFluxMeanErr': None, 'rPSFluxNdata': None, 'yPSFluxChi2': None, 'zFPFluxSigma': None, 'gPSFluxSigma': None, 'iFPFluxMeanErr': None, 'iPSFluxMean': None, 'uFPFluxMeanErr': None, 'ra': 351.570546978, 'nearbyObj3Dist': None, 'uPSFluxMeanErr': None, 'flags': 0, 'pmParallaxLnL': 0.00013000000035390258, 'uPSFluxSigma': None, 'nearbyObj2LnP': None, 'yPSFluxMean': None, 'iFPFluxMean': None, 'diaObjectId': 281323062375219201, 'zFPFluxMeanErr': None, 'yPSFluxNdata': None, 'gLcNonPeriodic': None, 'gPSFluxMean': None, 'iFPFluxSigma': None, 'rPSFluxSigma': None, 'iLcPeriodic': None, 'iPSFluxNdata': None, 'nearbyObj1': None, 'zPSFluxChi2': None, 'iLcNonPeriodic': None, 'uFPFluxMean': None, 'yFPFluxSigma': None, 'uPSFluxNdata': None, 'gFPFluxMean': None, 'rFPFluxSigma': None, 'yFPFluxMeanErr': None, 'zLcNonPeriodic': None, 'radecTai': 1480360995.0, 'gPSFluxNdata': None, 'pm_parallax_Cov': {'pmRa_pmDecl_Cov': 0.00013000000035390258, 'parallaxSigma': 0.00013000000035390258, 'pmDeclSigma': 0.00013000000035390258, 'pmRaSigma': 0.00013000000035390258, 'pmDecl_parallax_Cov': 0.00013000000035390258, 'pmRa_parallax_Cov': 0.00013000000035390258}, 'iPSFluxSigma': None, 'zPSFluxMean': None, 'gPSFluxMeanErr': None, 'zLcPeriodic': None, 'rPSFluxChi2': None, 'uPSFluxChi2': None, 'gFPFluxSigma': None, 'uLcPeriodic': None, 'rFPFluxMean': None, 'uPSFluxMean': None, 'nearbyObj2': None, 'rPSFluxMeanErr': None, 'uLcNonPeriodic': None, 'pmParallaxNdata': 1214, 'decl': 0.126243049656, 'rLcNonPeriodic': None, 'gFPFluxMeanErr': None, 'zFPFluxMean': None, 'nearbyObj1Dist': None, 'rFPFluxMeanErr': None, 'parallax': 2.124124050140381, 'yLcNonPeriodic': None, 'nearbyObj1LnP': None, 'nearbyObj3': None, 'gPSFluxChi2': None, 'rLcPeriodic': None, 'nearbyObj3LnP': None, 'pmDecl': 0.00014000000373926014, 'yLcPeriodic': None, 'yPSFluxSigma': None, 'gLcPeriodic': None, 'pmRa': 0.00013000000035390258, 'rPSFluxMean': None, 'uFPFluxSigma': None, 'ra_decl_Cov': {'raSigma': 0.0002800000074785203, 'ra_decl_Cov': 0.0002899999963119626, 'declSigma': 0.0002800000074785203}, 'iPSFluxChi2': None, 'zPSFluxSigma': None, 'yFPFluxMean': None}, 'diaSource': {'iyy': None, 'apFluxErr': None, 'dipChi2': None, 'apFlux': None, 'dipDecl': None, 'trailRa': None, 'trailAngle': None, 'ra': 351.570546978, 'i_cov': None, 'flags': 0, 'dipAngle': None, 'psLnL': None, 'diaObjectId': None, 'dipFluxDiff': None, 'diaSourceId': 281323062375219200, 'totFlux': None, 'iyyPSF': None, 'filterName': 'r', 'trail_Cov': None, 'dipMeanFlux': None, 'totFluxErr': None, 'dip_Cov': None, 'fpBkgd': None, 'spuriousness': None, 'ixx': None, 'ps_Cov': None, 'ccdVisitId': 111111, 'dipLength': None, 'diffFlux': None, 'ixyPSF': None, 'trailNdata': None, 'trailDecl': None, 'trailLength': None, 'decl': 0.126243049656, 'ixxPSF': None, 'trailLnL': None, 'trailFlux': None, 'dipRa': None, 'midPointTai': 1480360995.0, 'x': 112.0999984741211, 'diffFluxErr': None, 'dipLnL': None, 'trailChi2': None, 'snr': 41.099998474121094, 'psRa': None, 'psFlux': 1241.0, 'ixy': None, 'parentDiaSourceId': None, 'fpBkgdErr': None, 'psNdata': None, 'ssObjectId': None, 'x_y_Cov': {'xSigma': 1.2000000476837158, 'x_y_Cov': 1.2000000476837158, 'ySigma': 1.100000023841858}, 'psDecl': None, 'ra_decl_Cov': {'raSigma': 0.0002800000074785203, 'ra_decl_Cov': 0.0002899999963119626, 'declSigma': 0.0002800000074785203}, 'y': 121.0999984741211, 'psChi2': None, 'dipNdata': None, 'extendedness': None}, 'alertId': 1231321321, 'diaObject': {'yPSFluxMeanErr': None, 'pmParallaxChi2': 0.00013000000035390258, 'zPSFluxMeanErr': None, 'zPSFluxNdata': None, 'nearbyObj2Dist': None, 'iPSFluxMeanErr': None, 'rPSFluxNdata': None, 'yPSFluxChi2': None, 'zFPFluxSigma': None, 'gPSFluxSigma': None, 'iFPFluxMeanErr': None, 'iPSFluxMean': None, 'uFPFluxMeanErr': None, 'ra': 351.570546978, 'nearbyObj3Dist': None, 'uPSFluxMeanErr': None, 'flags': 0, 'pmParallaxLnL': 0.00013000000035390258, 'uPSFluxSigma': None, 'nearbyObj2LnP': None, 'yPSFluxMean': None, 'iFPFluxMean': None, 'diaObjectId': 281323062375219201, 'zFPFluxMeanErr': None, 'yPSFluxNdata': None, 'gLcNonPeriodic': None, 'gPSFluxMean': None, 'iFPFluxSigma': None, 'rPSFluxSigma': None, 'iLcPeriodic': None, 'iPSFluxNdata': None, 'nearbyObj1': None, 'zPSFluxChi2': None, 'iLcNonPeriodic': None, 'uFPFluxMean': None, 'yFPFluxSigma': None, 'uPSFluxNdata': None, 'gFPFluxMean': None, 'rFPFluxSigma': None, 'yFPFluxMeanErr': None, 'zLcNonPeriodic': None, 'radecTai': 1480360995.0, 'gPSFluxNdata': None, 'pm_parallax_Cov': {'pmRa_pmDecl_Cov': 0.00013000000035390258, 'parallaxSigma': 0.00013000000035390258, 'pmDeclSigma': 0.00013000000035390258, 'pmRaSigma': 0.00013000000035390258, 'pmDecl_parallax_Cov': 0.00013000000035390258, 'pmRa_parallax_Cov': 0.00013000000035390258}, 'iPSFluxSigma': None, 'zPSFluxMean': None, 'gPSFluxMeanErr': None, 'zLcPeriodic': None, 'rPSFluxChi2': None, 'uPSFluxChi2': None, 'gFPFluxSigma': None, 'uLcPeriodic': None, 'rFPFluxMean': None, 'uPSFluxMean': None, 'nearbyObj2': None, 'rPSFluxMeanErr': None, 'uLcNonPeriodic': None, 'pmParallaxNdata': 1214, 'decl': 0.126243049656, 'rLcNonPeriodic': None, 'gFPFluxMeanErr': None, 'zFPFluxMean': None, 'nearbyObj1Dist': None, 'rFPFluxMeanErr': None, 'parallax': 2.124124050140381, 'yLcNonPeriodic': None, 'nearbyObj1LnP': None, 'nearbyObj3': None, 'gPSFluxChi2': None, 'rLcPeriodic': None, 'nearbyObj3LnP': None, 'pmDecl': 0.00014000000373926014, 'yLcPeriodic': None, 'yPSFluxSigma': None, 'gLcPeriodic': None, 'pmRa': 0.00013000000035390258, 'rPSFluxMean': None, 'uFPFluxSigma': None, 'ra_decl_Cov': {'raSigma': 0.0002800000074785203, 'ra_decl_Cov': 0.0002899999963119626, 'declSigma': 0.0002800000074785203}, 'iPSFluxChi2': None, 'zPSFluxSigma': None, 'yFPFluxMean': None}, 'diaSourcesL2': [{'iyy': None, 'apFluxErr': None, 'dipChi2': None, 'apFlux': None, 'dipDecl': None, 'trailRa': None, 'trailAngle': None, 'ra': 351.570546978, 'i_cov': None, 'flags': 0, 'dipAngle': None, 'psLnL': None, 'diaObjectId': None, 'dipFluxDiff': None, 'diaSourceId': 281323062375219198, 'totFlux': None, 'iyyPSF': None, 'filterName': 'r', 'trail_Cov': None, 'dipMeanFlux': None, 'totFluxErr': None, 'dip_Cov': None, 'fpBkgd': None, 'spuriousness': None, 'ixx': None, 'ps_Cov': None, 'ccdVisitId': 111111, 'dipLength': None, 'diffFlux': None, 'ixyPSF': None, 'trailNdata': None, 'trailDecl': None, 'trailLength': None, 'decl': 0.126243049656, 'ixxPSF': None, 'trailLnL': None, 'trailFlux': None, 'dipRa': None, 'midPointTai': 1480360995.0, 'x': 112.0999984741211, 'diffFluxErr': None, 'dipLnL': None, 'trailChi2': None, 'snr': 41.099998474121094, 'psRa': None, 'psFlux': 1241.0, 'ixy': None, 'parentDiaSourceId': None, 'fpBkgdErr': None, 'psNdata': None, 'ssObjectId': None, 'x_y_Cov': {'xSigma': 1.2000000476837158, 'x_y_Cov': 1.2000000476837158, 'ySigma': 1.100000023841858}, 'psDecl': None, 'ra_decl_Cov': {'raSigma': 0.0002800000074785203, 'ra_decl_Cov': 0.0002899999963119626, 'declSigma': 0.0002800000074785203}, 'y': 121.0999984741211, 'psChi2': None, 'dipNdata': None, 'extendedness': None}, {'iyy': None, 'apFluxErr': None, 'dipChi2': None, 'apFlux': None, 'dipDecl': None, 'trailRa': None, 'trailAngle': None, 'ra': 351.570546978, 'i_cov': None, 'flags': 0, 'dipAngle': None, 'psLnL': None, 'diaObjectId': None, 'dipFluxDiff': None, 'diaSourceId': 281323062375219199, 'totFlux': None, 'iyyPSF': None, 'filterName': 'r', 'trail_Cov': None, 'dipMeanFlux': None, 'totFluxErr': None, 'dip_Cov': None, 'fpBkgd': None, 'spuriousness': None, 'ixx': None, 'ps_Cov': None, 'ccdVisitId': 111111, 'dipLength': None, 'diffFlux': None, 'ixyPSF': None, 'trailNdata': None, 'trailDecl': None, 'trailLength': None, 'decl': 0.126243049656, 'ixxPSF': None, 'trailLnL': None, 'trailFlux': None, 'dipRa': None, 'midPointTai': 1480360995.0, 'x': 112.0999984741211, 'diffFluxErr': None, 'dipLnL': None, 'trailChi2': None, 'snr': 41.099998474121094, 'psRa': None, 'psFlux': 1241.0, 'ixy': None, 'parentDiaSourceId': None, 'fpBkgdErr': None, 'psNdata': None, 'ssObjectId': None, 'x_y_Cov': {'xSigma': 1.2000000476837158, 'x_y_Cov': 1.2000000476837158, 'ySigma': 1.100000023841858}, 'psDecl': None, 'ra_decl_Cov': {'raSigma': 0.0002800000074785203, 'ra_decl_Cov': 0.0002899999963119626, 'declSigma': 0.0002800000074785203}, 'y': 121.0999984741211, 'psChi2': None, 'dipNdata': None, 'extendedness': None}]}\n"
     ]
    }
   ],
   "source": [
    "alert_avro_message = read_avro_data(alert_avro_data, alert_schema)\n",
    "print(alert_avro_message)"
   ]
  },
  {
   "cell_type": "code",
   "execution_count": 22,
   "metadata": {
    "collapsed": false
   },
   "outputs": [
    {
     "name": "stdout",
     "output_type": "stream",
     "text": [
      "{'l1dbId': 222222222, 'prv_diaSources': [{'iyy': None, 'apFluxErr': None, 'dipChi2': None, 'apFlux': None, 'dipDecl': None, 'trailRa': None, 'trailAngle': None, 'ra': 351.570546978, 'i_cov': None, 'flags': 0, 'dipAngle': None, 'psLnL': None, 'diaObjectId': None, 'dipFluxDiff': None, 'diaSourceId': 281323062375219198, 'totFlux': None, 'iyyPSF': None, 'filterName': 'r', 'trail_Cov': None, 'dipMeanFlux': None, 'totFluxErr': None, 'dip_Cov': None, 'fpBkgd': None, 'spuriousness': None, 'ixx': None, 'ps_Cov': None, 'ccdVisitId': 111111, 'dipLength': None, 'diffFlux': None, 'ixyPSF': None, 'trailNdata': None, 'trailDecl': None, 'trailLength': None, 'decl': 0.126243049656, 'ixxPSF': None, 'trailLnL': None, 'trailFlux': None, 'dipRa': None, 'midPointTai': 1480360995.0, 'x': 112.0999984741211, 'diffFluxErr': None, 'dipLnL': None, 'trailChi2': None, 'snr': 41.099998474121094, 'psRa': None, 'psFlux': 1241.0, 'ixy': None, 'parentDiaSourceId': None, 'fpBkgdErr': None, 'psNdata': None, 'ssObjectId': None, 'x_y_Cov': {'xSigma': 1.2000000476837158, 'x_y_Cov': 1.2000000476837158, 'ySigma': 1.100000023841858}, 'psDecl': None, 'ra_decl_Cov': {'raSigma': 0.0002800000074785203, 'ra_decl_Cov': 0.0002899999963119626, 'declSigma': 0.0002800000074785203}, 'y': 121.0999984741211, 'psChi2': None, 'dipNdata': None, 'extendedness': None}, {'iyy': None, 'apFluxErr': None, 'dipChi2': None, 'apFlux': None, 'dipDecl': None, 'trailRa': None, 'trailAngle': None, 'ra': 351.570546978, 'i_cov': None, 'flags': 0, 'dipAngle': None, 'psLnL': None, 'diaObjectId': None, 'dipFluxDiff': None, 'diaSourceId': 281323062375219199, 'totFlux': None, 'iyyPSF': None, 'filterName': 'r', 'trail_Cov': None, 'dipMeanFlux': None, 'totFluxErr': None, 'dip_Cov': None, 'fpBkgd': None, 'spuriousness': None, 'ixx': None, 'ps_Cov': None, 'ccdVisitId': 111111, 'dipLength': None, 'diffFlux': None, 'ixyPSF': None, 'trailNdata': None, 'trailDecl': None, 'trailLength': None, 'decl': 0.126243049656, 'ixxPSF': None, 'trailLnL': None, 'trailFlux': None, 'dipRa': None, 'midPointTai': 1480360995.0, 'x': 112.0999984741211, 'diffFluxErr': None, 'dipLnL': None, 'trailChi2': None, 'snr': 41.099998474121094, 'psRa': None, 'psFlux': 1241.0, 'ixy': None, 'parentDiaSourceId': None, 'fpBkgdErr': None, 'psNdata': None, 'ssObjectId': None, 'x_y_Cov': {'xSigma': 1.2000000476837158, 'x_y_Cov': 1.2000000476837158, 'ySigma': 1.100000023841858}, 'psDecl': None, 'ra_decl_Cov': {'raSigma': 0.0002800000074785203, 'ra_decl_Cov': 0.0002899999963119626, 'declSigma': 0.0002800000074785203}, 'y': 121.0999984741211, 'psChi2': None, 'dipNdata': None, 'extendedness': None}], 'ssObject': {'MOID1': 3141.0, 'zH': None, 'uG2': 231.23129272460938, 'zG1': None, 'iG2': None, 'rG1': None, 'yG1Err': None, 'flags': 0, 'zG2Err': None, 'uG1': 32131.3125, 'yH': None, 'iG2Err': None, 'rG2Err': None, 'zG1Err': None, 'yG2': None, 'uG1Err': 31232.212890625, 'oe': {'aop': 344243.3, 'q': 6654.14, 'epoch': 134141.0, 'i': 5436.2344, 'e': 636.121, 'lan': 54325.34, 'M': 131.1241}, 'rH': None, 'arc': 2.124124050140381, 'iH': None, 'gG1Err': None, 'iHErr': None, 'uG2Err': 23132.23046875, 'iG1': None, 'gG2': None, 'yG2Err': None, 'rG2': None, 'orbFitNdata': 1214, 'orbFitChi2': 1341421.25, 'gHErr': None, 'rG1Err': None, 'moidLon2': 3142.23123, 'gG1': None, 'orbFitLnL': 1343141.0, 'gH': None, 'zHErr': None, 'rHErr': None, 'uHErr': 13213.212890625, 'yHErr': None, 'gG2Err': None, 'ssObjectId': 5364546, 'iG1Err': None, 'uH': 13231.2314453125, 'moidLon1': 2143.213, 'yG1': None, 'zG2': None, 'oe_Cov': None, 'MOID2': 23432.423828125}, 'cutoutDifference': None, 'cutoutTemplate': None, 'diaObjectL2': {'yPSFluxMeanErr': None, 'pmParallaxChi2': 0.00013000000035390258, 'zPSFluxMeanErr': None, 'zPSFluxNdata': None, 'nearbyObj2Dist': None, 'iPSFluxMeanErr': None, 'rPSFluxNdata': None, 'yPSFluxChi2': None, 'zFPFluxSigma': None, 'gPSFluxSigma': None, 'iFPFluxMeanErr': None, 'iPSFluxMean': None, 'uFPFluxMeanErr': None, 'ra': 351.570546978, 'nearbyObj3Dist': None, 'uPSFluxMeanErr': None, 'flags': 0, 'pmParallaxLnL': 0.00013000000035390258, 'uPSFluxSigma': None, 'nearbyObj2LnP': None, 'yPSFluxMean': None, 'iFPFluxMean': None, 'diaObjectId': 281323062375219201, 'zFPFluxMeanErr': None, 'yPSFluxNdata': None, 'gLcNonPeriodic': None, 'gPSFluxMean': None, 'iFPFluxSigma': None, 'rPSFluxSigma': None, 'iLcPeriodic': None, 'iPSFluxNdata': None, 'nearbyObj1': None, 'zPSFluxChi2': None, 'iLcNonPeriodic': None, 'uFPFluxMean': None, 'yFPFluxSigma': None, 'uPSFluxNdata': None, 'gFPFluxMean': None, 'rFPFluxSigma': None, 'yFPFluxMeanErr': None, 'zLcNonPeriodic': None, 'radecTai': 1480360995.0, 'gPSFluxNdata': None, 'pm_parallax_Cov': {'pmRa_pmDecl_Cov': 0.00013000000035390258, 'parallaxSigma': 0.00013000000035390258, 'pmDeclSigma': 0.00013000000035390258, 'pmRaSigma': 0.00013000000035390258, 'pmDecl_parallax_Cov': 0.00013000000035390258, 'pmRa_parallax_Cov': 0.00013000000035390258}, 'iPSFluxSigma': None, 'zPSFluxMean': None, 'gPSFluxMeanErr': None, 'zLcPeriodic': None, 'rPSFluxChi2': None, 'uPSFluxChi2': None, 'gFPFluxSigma': None, 'uLcPeriodic': None, 'rFPFluxMean': None, 'uPSFluxMean': None, 'nearbyObj2': None, 'rPSFluxMeanErr': None, 'uLcNonPeriodic': None, 'pmParallaxNdata': 1214, 'decl': 0.126243049656, 'rLcNonPeriodic': None, 'gFPFluxMeanErr': None, 'zFPFluxMean': None, 'nearbyObj1Dist': None, 'rFPFluxMeanErr': None, 'parallax': 2.124124050140381, 'yLcNonPeriodic': None, 'nearbyObj1LnP': None, 'nearbyObj3': None, 'gPSFluxChi2': None, 'rLcPeriodic': None, 'nearbyObj3LnP': None, 'pmDecl': 0.00014000000373926014, 'yLcPeriodic': None, 'yPSFluxSigma': None, 'gLcPeriodic': None, 'pmRa': 0.00013000000035390258, 'rPSFluxMean': None, 'uFPFluxSigma': None, 'ra_decl_Cov': {'raSigma': 0.0002800000074785203, 'ra_decl_Cov': 0.0002899999963119626, 'declSigma': 0.0002800000074785203}, 'iPSFluxChi2': None, 'zPSFluxSigma': None, 'yFPFluxMean': None}, 'diaSource': {'iyy': None, 'apFluxErr': None, 'dipChi2': None, 'apFlux': None, 'dipDecl': None, 'trailRa': None, 'trailAngle': None, 'ra': 351.570546978, 'i_cov': None, 'flags': 0, 'dipAngle': None, 'psLnL': None, 'diaObjectId': None, 'dipFluxDiff': None, 'diaSourceId': 281323062375219200, 'totFlux': None, 'iyyPSF': None, 'filterName': 'r', 'trail_Cov': None, 'dipMeanFlux': None, 'totFluxErr': None, 'dip_Cov': None, 'fpBkgd': None, 'spuriousness': None, 'ixx': None, 'ps_Cov': None, 'ccdVisitId': 111111, 'dipLength': None, 'diffFlux': None, 'ixyPSF': None, 'trailNdata': None, 'trailDecl': None, 'trailLength': None, 'decl': 0.126243049656, 'ixxPSF': None, 'trailLnL': None, 'trailFlux': None, 'dipRa': None, 'midPointTai': 1480360995.0, 'x': 112.0999984741211, 'diffFluxErr': None, 'dipLnL': None, 'trailChi2': None, 'snr': 41.099998474121094, 'psRa': None, 'psFlux': 1241.0, 'ixy': None, 'parentDiaSourceId': None, 'fpBkgdErr': None, 'psNdata': None, 'ssObjectId': None, 'x_y_Cov': {'xSigma': 1.2000000476837158, 'x_y_Cov': 1.2000000476837158, 'ySigma': 1.100000023841858}, 'psDecl': None, 'ra_decl_Cov': {'raSigma': 0.0002800000074785203, 'ra_decl_Cov': 0.0002899999963119626, 'declSigma': 0.0002800000074785203}, 'y': 121.0999984741211, 'psChi2': None, 'dipNdata': None, 'extendedness': None}, 'alertId': 1231321321, 'diaObject': {'yPSFluxMeanErr': None, 'pmParallaxChi2': 0.00013000000035390258, 'zPSFluxMeanErr': None, 'zPSFluxNdata': None, 'nearbyObj2Dist': None, 'iPSFluxMeanErr': None, 'rPSFluxNdata': None, 'yPSFluxChi2': None, 'zFPFluxSigma': None, 'gPSFluxSigma': None, 'iFPFluxMeanErr': None, 'iPSFluxMean': None, 'uFPFluxMeanErr': None, 'ra': 351.570546978, 'nearbyObj3Dist': None, 'uPSFluxMeanErr': None, 'flags': 0, 'pmParallaxLnL': 0.00013000000035390258, 'uPSFluxSigma': None, 'nearbyObj2LnP': None, 'yPSFluxMean': None, 'iFPFluxMean': None, 'diaObjectId': 281323062375219201, 'zFPFluxMeanErr': None, 'yPSFluxNdata': None, 'gLcNonPeriodic': None, 'gPSFluxMean': None, 'iFPFluxSigma': None, 'rPSFluxSigma': None, 'iLcPeriodic': None, 'iPSFluxNdata': None, 'nearbyObj1': None, 'zPSFluxChi2': None, 'iLcNonPeriodic': None, 'uFPFluxMean': None, 'yFPFluxSigma': None, 'uPSFluxNdata': None, 'gFPFluxMean': None, 'rFPFluxSigma': None, 'yFPFluxMeanErr': None, 'zLcNonPeriodic': None, 'radecTai': 1480360995.0, 'gPSFluxNdata': None, 'pm_parallax_Cov': {'pmRa_pmDecl_Cov': 0.00013000000035390258, 'parallaxSigma': 0.00013000000035390258, 'pmDeclSigma': 0.00013000000035390258, 'pmRaSigma': 0.00013000000035390258, 'pmDecl_parallax_Cov': 0.00013000000035390258, 'pmRa_parallax_Cov': 0.00013000000035390258}, 'iPSFluxSigma': None, 'zPSFluxMean': None, 'gPSFluxMeanErr': None, 'zLcPeriodic': None, 'rPSFluxChi2': None, 'uPSFluxChi2': None, 'gFPFluxSigma': None, 'uLcPeriodic': None, 'rFPFluxMean': None, 'uPSFluxMean': None, 'nearbyObj2': None, 'rPSFluxMeanErr': None, 'uLcNonPeriodic': None, 'pmParallaxNdata': 1214, 'decl': 0.126243049656, 'rLcNonPeriodic': None, 'gFPFluxMeanErr': None, 'zFPFluxMean': None, 'nearbyObj1Dist': None, 'rFPFluxMeanErr': None, 'parallax': 2.124124050140381, 'yLcNonPeriodic': None, 'nearbyObj1LnP': None, 'nearbyObj3': None, 'gPSFluxChi2': None, 'rLcPeriodic': None, 'nearbyObj3LnP': None, 'pmDecl': 0.00014000000373926014, 'yLcPeriodic': None, 'yPSFluxSigma': None, 'gLcPeriodic': None, 'pmRa': 0.00013000000035390258, 'rPSFluxMean': None, 'uFPFluxSigma': None, 'ra_decl_Cov': {'raSigma': 0.0002800000074785203, 'ra_decl_Cov': 0.0002899999963119626, 'declSigma': 0.0002800000074785203}, 'iPSFluxChi2': None, 'zPSFluxSigma': None, 'yFPFluxMean': None}, 'diaSourcesL2': [{'iyy': None, 'apFluxErr': None, 'dipChi2': None, 'apFlux': None, 'dipDecl': None, 'trailRa': None, 'trailAngle': None, 'ra': 351.570546978, 'i_cov': None, 'flags': 0, 'dipAngle': None, 'psLnL': None, 'diaObjectId': None, 'dipFluxDiff': None, 'diaSourceId': 281323062375219198, 'totFlux': None, 'iyyPSF': None, 'filterName': 'r', 'trail_Cov': None, 'dipMeanFlux': None, 'totFluxErr': None, 'dip_Cov': None, 'fpBkgd': None, 'spuriousness': None, 'ixx': None, 'ps_Cov': None, 'ccdVisitId': 111111, 'dipLength': None, 'diffFlux': None, 'ixyPSF': None, 'trailNdata': None, 'trailDecl': None, 'trailLength': None, 'decl': 0.126243049656, 'ixxPSF': None, 'trailLnL': None, 'trailFlux': None, 'dipRa': None, 'midPointTai': 1480360995.0, 'x': 112.0999984741211, 'diffFluxErr': None, 'dipLnL': None, 'trailChi2': None, 'snr': 41.099998474121094, 'psRa': None, 'psFlux': 1241.0, 'ixy': None, 'parentDiaSourceId': None, 'fpBkgdErr': None, 'psNdata': None, 'ssObjectId': None, 'x_y_Cov': {'xSigma': 1.2000000476837158, 'x_y_Cov': 1.2000000476837158, 'ySigma': 1.100000023841858}, 'psDecl': None, 'ra_decl_Cov': {'raSigma': 0.0002800000074785203, 'ra_decl_Cov': 0.0002899999963119626, 'declSigma': 0.0002800000074785203}, 'y': 121.0999984741211, 'psChi2': None, 'dipNdata': None, 'extendedness': None}, {'iyy': None, 'apFluxErr': None, 'dipChi2': None, 'apFlux': None, 'dipDecl': None, 'trailRa': None, 'trailAngle': None, 'ra': 351.570546978, 'i_cov': None, 'flags': 0, 'dipAngle': None, 'psLnL': None, 'diaObjectId': None, 'dipFluxDiff': None, 'diaSourceId': 281323062375219199, 'totFlux': None, 'iyyPSF': None, 'filterName': 'r', 'trail_Cov': None, 'dipMeanFlux': None, 'totFluxErr': None, 'dip_Cov': None, 'fpBkgd': None, 'spuriousness': None, 'ixx': None, 'ps_Cov': None, 'ccdVisitId': 111111, 'dipLength': None, 'diffFlux': None, 'ixyPSF': None, 'trailNdata': None, 'trailDecl': None, 'trailLength': None, 'decl': 0.126243049656, 'ixxPSF': None, 'trailLnL': None, 'trailFlux': None, 'dipRa': None, 'midPointTai': 1480360995.0, 'x': 112.0999984741211, 'diffFluxErr': None, 'dipLnL': None, 'trailChi2': None, 'snr': 41.099998474121094, 'psRa': None, 'psFlux': 1241.0, 'ixy': None, 'parentDiaSourceId': None, 'fpBkgdErr': None, 'psNdata': None, 'ssObjectId': None, 'x_y_Cov': {'xSigma': 1.2000000476837158, 'x_y_Cov': 1.2000000476837158, 'ySigma': 1.100000023841858}, 'psDecl': None, 'ra_decl_Cov': {'raSigma': 0.0002800000074785203, 'ra_decl_Cov': 0.0002899999963119626, 'declSigma': 0.0002800000074785203}, 'y': 121.0999984741211, 'psChi2': None, 'dipNdata': None, 'extendedness': None}]}\n"
     ]
    }
   ],
   "source": [
    "alert_fastavro_message = read_fastavro_data(alert_fastavro_data, alert_schema_json)\n",
    "print(alert_fastavro_message)"
   ]
  },
  {
   "cell_type": "markdown",
   "metadata": {},
   "source": [
    "### timeit"
   ]
  },
  {
   "cell_type": "code",
   "execution_count": 23,
   "metadata": {
    "collapsed": false
   },
   "outputs": [
    {
     "name": "stdout",
     "output_type": "stream",
     "text": [
      "10000 loops, best of 3: 8.37 ms per loop\n"
     ]
    }
   ],
   "source": [
    "writeAvroTime_alert = %timeit -o -n10000 (write_avro_data(alert_json, alert_schema)) "
   ]
  },
  {
   "cell_type": "code",
   "execution_count": 24,
   "metadata": {
    "collapsed": false
   },
   "outputs": [
    {
     "name": "stdout",
     "output_type": "stream",
     "text": [
      "10000 loops, best of 3: 7.07 ms per loop\n"
     ]
    }
   ],
   "source": [
    "readAvroTime_alert = %timeit -o -n10000 (read_avro_data(alert_avro_data, alert_schema))"
   ]
  },
  {
   "cell_type": "code",
   "execution_count": 25,
   "metadata": {
    "collapsed": false
   },
   "outputs": [
    {
     "name": "stdout",
     "output_type": "stream",
     "text": [
      "10000 loops, best of 3: 1.66 ms per loop\n"
     ]
    }
   ],
   "source": [
    "writeFastAvroTime_alert = %timeit -o -n10000 (write_fastavro_data(alert_json, alert_schema_json))"
   ]
  },
  {
   "cell_type": "code",
   "execution_count": 26,
   "metadata": {
    "collapsed": false
   },
   "outputs": [
    {
     "name": "stdout",
     "output_type": "stream",
     "text": [
      "10000 loops, best of 3: 572 µs per loop\n"
     ]
    }
   ],
   "source": [
    "readFastAvroTime_alert = %timeit -o -n10000 (read_fastavro_data(alert_fastavro_data, alert_schema_json))"
   ]
  },
  {
   "cell_type": "markdown",
   "metadata": {},
   "source": [
    "## Writing alert schema, with postage stamp"
   ]
  },
  {
   "cell_type": "code",
   "execution_count": 27,
   "metadata": {
    "collapsed": true
   },
   "outputs": [],
   "source": [
    "cutoutdiff_path = 'stamp-676.fits'\n",
    "cutouttemp_path = 'stamp-677.fits'\n",
    "\n",
    "\n",
    "def load_stamp(file_path):\n",
    "    \"\"\"Load a cutout postage stamp file to include in alert.\n",
    "    \"\"\"\n",
    "    _, fileoutname = os.path.split(file_path)\n",
    "    with open(file_path, mode='rb') as f:\n",
    "        cutout_data = f.read()\n",
    "        cutout_dict = {\"fileName\": fileoutname, \"stampData\": cutout_data}\n",
    "    return cutout_dict\n",
    "\n",
    "\n",
    "def write_stamp_file(stamp_dict, output_dir):\n",
    "    \"\"\"Given a stamp dict that follows the cutout schema, write data to a file in a given directory.\n",
    "    \"\"\"\n",
    "    filename = stamp_dict['fileName']\n",
    "    try:\n",
    "        os.makedirs(output_dir)\n",
    "    except OSError:\n",
    "        pass\n",
    "    out_path = os.path.join(output_dir, filename)\n",
    "    with open(out_path, 'wb') as f:\n",
    "        f.write(stamp_dict['stampData'])\n",
    "    return out_path\n"
   ]
  },
  {
   "cell_type": "markdown",
   "metadata": {},
   "source": [
    "Prep stamp data."
   ]
  },
  {
   "cell_type": "code",
   "execution_count": 28,
   "metadata": {
    "collapsed": false
   },
   "outputs": [],
   "source": [
    "cutoutDifference = load_stamp(cutoutdiff_path)\n",
    "alert_json['cutoutDifference'] = cutoutDifference\n",
    "cutoutTemplate = load_stamp(cutouttemp_path)\n",
    "alert_json['cutoutTemplate'] = cutoutTemplate"
   ]
  },
  {
   "cell_type": "markdown",
   "metadata": {},
   "source": [
    "### Encoding with stamps"
   ]
  },
  {
   "cell_type": "code",
   "execution_count": 29,
   "metadata": {
    "collapsed": false
   },
   "outputs": [
    {
     "name": "stdout",
     "output_type": "stream",
     "text": [
      "avro data with alert schema and stamp: 81951 \n",
      "\n"
     ]
    }
   ],
   "source": [
    "alert_stamp_avro_data = write_avro_data(alert_json, alert_schema)\n",
    "print('avro data with alert schema and stamp: %s \\n' % sys.getsizeof(alert_stamp_avro_data))"
   ]
  },
  {
   "cell_type": "code",
   "execution_count": 30,
   "metadata": {
    "collapsed": false
   },
   "outputs": [
    {
     "name": "stdout",
     "output_type": "stream",
     "text": [
      "fastavro data with alert schema and stamp: 81951 \n",
      "\n"
     ]
    }
   ],
   "source": [
    "alert_stamp_fastavro_data = write_fastavro_data(alert_json, alert_schema_json)\n",
    "print('fastavro data with alert schema and stamp: %s \\n' % sys.getsizeof(alert_stamp_fastavro_data))"
   ]
  },
  {
   "cell_type": "markdown",
   "metadata": {},
   "source": [
    "### Decoding"
   ]
  },
  {
   "cell_type": "code",
   "execution_count": 31,
   "metadata": {
    "collapsed": false
   },
   "outputs": [
    {
     "name": "stdout",
     "output_type": "stream",
     "text": [
      "{'l1dbId': 222222222, 'prv_diaSources': [{'iyy': None, 'apFluxErr': None, 'dipChi2': None, 'apFlux': None, 'dipDecl': None, 'trailRa': None, 'trailAngle': None, 'ra': 351.570546978, 'i_cov': None, 'flags': 0, 'dipAngle': None, 'psLnL': None, 'diaObjectId': None, 'dipFluxDiff': None, 'diaSourceId': 281323062375219198, 'totFlux': None, 'iyyPSF': None, 'filterName': 'r', 'trail_Cov': None, 'dipMeanFlux': None, 'totFluxErr': None, 'dip_Cov': None, 'fpBkgd': None, 'spuriousness': None, 'ixx': None, 'ps_Cov': None, 'ccdVisitId': 111111, 'dipLength': None, 'diffFlux': None, 'ixyPSF': None, 'trailNdata': None, 'trailDecl': None, 'trailLength': None, 'decl': 0.126243049656, 'ixxPSF': None, 'trailLnL': None, 'trailFlux': None, 'dipRa': None, 'midPointTai': 1480360995.0, 'x': 112.0999984741211, 'diffFluxErr': None, 'dipLnL': None, 'trailChi2': None, 'snr': 41.099998474121094, 'psRa': None, 'psFlux': 1241.0, 'ixy': None, 'parentDiaSourceId': None, 'fpBkgdErr': None, 'psNdata': None, 'ssObjectId': None, 'x_y_Cov': {'xSigma': 1.2000000476837158, 'x_y_Cov': 1.2000000476837158, 'ySigma': 1.100000023841858}, 'psDecl': None, 'ra_decl_Cov': {'raSigma': 0.0002800000074785203, 'ra_decl_Cov': 0.0002899999963119626, 'declSigma': 0.0002800000074785203}, 'y': 121.0999984741211, 'psChi2': None, 'dipNdata': None, 'extendedness': None}, {'iyy': None, 'apFluxErr': None, 'dipChi2': None, 'apFlux': None, 'dipDecl': None, 'trailRa': None, 'trailAngle': None, 'ra': 351.570546978, 'i_cov': None, 'flags': 0, 'dipAngle': None, 'psLnL': None, 'diaObjectId': None, 'dipFluxDiff': None, 'diaSourceId': 281323062375219199, 'totFlux': None, 'iyyPSF': None, 'filterName': 'r', 'trail_Cov': None, 'dipMeanFlux': None, 'totFluxErr': None, 'dip_Cov': None, 'fpBkgd': None, 'spuriousness': None, 'ixx': None, 'ps_Cov': None, 'ccdVisitId': 111111, 'dipLength': None, 'diffFlux': None, 'ixyPSF': None, 'trailNdata': None, 'trailDecl': None, 'trailLength': None, 'decl': 0.126243049656, 'ixxPSF': None, 'trailLnL': None, 'trailFlux': None, 'dipRa': None, 'midPointTai': 1480360995.0, 'x': 112.0999984741211, 'diffFluxErr': None, 'dipLnL': None, 'trailChi2': None, 'snr': 41.099998474121094, 'psRa': None, 'psFlux': 1241.0, 'ixy': None, 'parentDiaSourceId': None, 'fpBkgdErr': None, 'psNdata': None, 'ssObjectId': None, 'x_y_Cov': {'xSigma': 1.2000000476837158, 'x_y_Cov': 1.2000000476837158, 'ySigma': 1.100000023841858}, 'psDecl': None, 'ra_decl_Cov': {'raSigma': 0.0002800000074785203, 'ra_decl_Cov': 0.0002899999963119626, 'declSigma': 0.0002800000074785203}, 'y': 121.0999984741211, 'psChi2': None, 'dipNdata': None, 'extendedness': None}], 'ssObject': {'MOID1': 3141.0, 'zH': None, 'uG2': 231.23129272460938, 'zG1': None, 'iG2': None, 'rG1': None, 'yG1Err': None, 'flags': 0, 'zG2Err': None, 'uG1': 32131.3125, 'yH': None, 'iG2Err': None, 'rG2Err': None, 'zG1Err': None, 'yG2': None, 'uG1Err': 31232.212890625, 'oe': {'aop': 344243.3, 'q': 6654.14, 'epoch': 134141.0, 'i': 5436.2344, 'e': 636.121, 'lan': 54325.34, 'M': 131.1241}, 'rH': None, 'arc': 2.124124050140381, 'iH': None, 'gG1Err': None, 'iHErr': None, 'uG2Err': 23132.23046875, 'iG1': None, 'gG2': None, 'yG2Err': None, 'rG2': None, 'orbFitNdata': 1214, 'orbFitChi2': 1341421.25, 'gHErr': None, 'rG1Err': None, 'moidLon2': 3142.23123, 'gG1': None, 'orbFitLnL': 1343141.0, 'gH': None, 'zHErr': None, 'rHErr': None, 'uHErr': 13213.212890625, 'yHErr': None, 'gG2Err': None, 'ssObjectId': 5364546, 'iG1Err': None, 'uH': 13231.2314453125, 'moidLon1': 2143.213, 'yG1': None, 'zG2': None, 'oe_Cov': None, 'MOID2': 23432.423828125}, 'diaObject': {'yPSFluxMeanErr': None, 'pmParallaxChi2': 0.00013000000035390258, 'zPSFluxMeanErr': None, 'zPSFluxNdata': None, 'nearbyObj2Dist': None, 'iPSFluxMeanErr': None, 'rPSFluxNdata': None, 'yPSFluxChi2': None, 'zFPFluxSigma': None, 'gPSFluxSigma': None, 'iFPFluxMeanErr': None, 'iPSFluxMean': None, 'uFPFluxMeanErr': None, 'ra': 351.570546978, 'nearbyObj3Dist': None, 'uPSFluxMeanErr': None, 'flags': 0, 'pmParallaxLnL': 0.00013000000035390258, 'uPSFluxSigma': None, 'nearbyObj2LnP': None, 'yPSFluxMean': None, 'iFPFluxMean': None, 'diaObjectId': 281323062375219201, 'zFPFluxMeanErr': None, 'yPSFluxNdata': None, 'gLcNonPeriodic': None, 'gPSFluxMean': None, 'iFPFluxSigma': None, 'rPSFluxSigma': None, 'iLcPeriodic': None, 'iPSFluxNdata': None, 'nearbyObj1': None, 'zPSFluxChi2': None, 'iLcNonPeriodic': None, 'uFPFluxMean': None, 'yFPFluxSigma': None, 'uPSFluxNdata': None, 'gFPFluxMean': None, 'rFPFluxSigma': None, 'yFPFluxMeanErr': None, 'zLcNonPeriodic': None, 'radecTai': 1480360995.0, 'gPSFluxNdata': None, 'pm_parallax_Cov': {'pmRa_pmDecl_Cov': 0.00013000000035390258, 'parallaxSigma': 0.00013000000035390258, 'pmDeclSigma': 0.00013000000035390258, 'pmRaSigma': 0.00013000000035390258, 'pmDecl_parallax_Cov': 0.00013000000035390258, 'pmRa_parallax_Cov': 0.00013000000035390258}, 'iPSFluxSigma': None, 'zPSFluxMean': None, 'gPSFluxMeanErr': None, 'zLcPeriodic': None, 'rPSFluxChi2': None, 'uPSFluxChi2': None, 'gFPFluxSigma': None, 'uLcPeriodic': None, 'rFPFluxMean': None, 'uPSFluxMean': None, 'nearbyObj2': None, 'rPSFluxMeanErr': None, 'uLcNonPeriodic': None, 'pmParallaxNdata': 1214, 'decl': 0.126243049656, 'rLcNonPeriodic': None, 'gFPFluxMeanErr': None, 'zFPFluxMean': None, 'nearbyObj1Dist': None, 'rFPFluxMeanErr': None, 'parallax': 2.124124050140381, 'yLcNonPeriodic': None, 'nearbyObj1LnP': None, 'nearbyObj3': None, 'gPSFluxChi2': None, 'rLcPeriodic': None, 'nearbyObj3LnP': None, 'pmDecl': 0.00014000000373926014, 'yLcPeriodic': None, 'yPSFluxSigma': None, 'gLcPeriodic': None, 'pmRa': 0.00013000000035390258, 'rPSFluxMean': None, 'uFPFluxSigma': None, 'ra_decl_Cov': {'raSigma': 0.0002800000074785203, 'ra_decl_Cov': 0.0002899999963119626, 'declSigma': 0.0002800000074785203}, 'iPSFluxChi2': None, 'zPSFluxSigma': None, 'yFPFluxMean': None}, 'diaSource': {'iyy': None, 'apFluxErr': None, 'dipChi2': None, 'apFlux': None, 'dipDecl': None, 'trailRa': None, 'trailAngle': None, 'ra': 351.570546978, 'i_cov': None, 'flags': 0, 'dipAngle': None, 'psLnL': None, 'diaObjectId': None, 'dipFluxDiff': None, 'diaSourceId': 281323062375219200, 'totFlux': None, 'iyyPSF': None, 'filterName': 'r', 'trail_Cov': None, 'dipMeanFlux': None, 'totFluxErr': None, 'dip_Cov': None, 'fpBkgd': None, 'spuriousness': None, 'ixx': None, 'ps_Cov': None, 'ccdVisitId': 111111, 'dipLength': None, 'diffFlux': None, 'ixyPSF': None, 'trailNdata': None, 'trailDecl': None, 'trailLength': None, 'decl': 0.126243049656, 'ixxPSF': None, 'trailLnL': None, 'trailFlux': None, 'dipRa': None, 'midPointTai': 1480360995.0, 'x': 112.0999984741211, 'diffFluxErr': None, 'dipLnL': None, 'trailChi2': None, 'snr': 41.099998474121094, 'psRa': None, 'psFlux': 1241.0, 'ixy': None, 'parentDiaSourceId': None, 'fpBkgdErr': None, 'psNdata': None, 'ssObjectId': None, 'x_y_Cov': {'xSigma': 1.2000000476837158, 'x_y_Cov': 1.2000000476837158, 'ySigma': 1.100000023841858}, 'psDecl': None, 'ra_decl_Cov': {'raSigma': 0.0002800000074785203, 'ra_decl_Cov': 0.0002899999963119626, 'declSigma': 0.0002800000074785203}, 'y': 121.0999984741211, 'psChi2': None, 'dipNdata': None, 'extendedness': None}, 'alertId': 1231321321, 'diaObjectL2': {'yPSFluxMeanErr': None, 'pmParallaxChi2': 0.00013000000035390258, 'zPSFluxMeanErr': None, 'zPSFluxNdata': None, 'nearbyObj2Dist': None, 'iPSFluxMeanErr': None, 'rPSFluxNdata': None, 'yPSFluxChi2': None, 'zFPFluxSigma': None, 'gPSFluxSigma': None, 'iFPFluxMeanErr': None, 'iPSFluxMean': None, 'uFPFluxMeanErr': None, 'ra': 351.570546978, 'nearbyObj3Dist': None, 'uPSFluxMeanErr': None, 'flags': 0, 'pmParallaxLnL': 0.00013000000035390258, 'uPSFluxSigma': None, 'nearbyObj2LnP': None, 'yPSFluxMean': None, 'iFPFluxMean': None, 'diaObjectId': 281323062375219201, 'zFPFluxMeanErr': None, 'yPSFluxNdata': None, 'gLcNonPeriodic': None, 'gPSFluxMean': None, 'iFPFluxSigma': None, 'rPSFluxSigma': None, 'iLcPeriodic': None, 'iPSFluxNdata': None, 'nearbyObj1': None, 'zPSFluxChi2': None, 'iLcNonPeriodic': None, 'uFPFluxMean': None, 'yFPFluxSigma': None, 'uPSFluxNdata': None, 'gFPFluxMean': None, 'rFPFluxSigma': None, 'yFPFluxMeanErr': None, 'zLcNonPeriodic': None, 'radecTai': 1480360995.0, 'gPSFluxNdata': None, 'pm_parallax_Cov': {'pmRa_pmDecl_Cov': 0.00013000000035390258, 'parallaxSigma': 0.00013000000035390258, 'pmDeclSigma': 0.00013000000035390258, 'pmRaSigma': 0.00013000000035390258, 'pmDecl_parallax_Cov': 0.00013000000035390258, 'pmRa_parallax_Cov': 0.00013000000035390258}, 'iPSFluxSigma': None, 'zPSFluxMean': None, 'gPSFluxMeanErr': None, 'zLcPeriodic': None, 'rPSFluxChi2': None, 'uPSFluxChi2': None, 'gFPFluxSigma': None, 'uLcPeriodic': None, 'rFPFluxMean': None, 'uPSFluxMean': None, 'nearbyObj2': None, 'rPSFluxMeanErr': None, 'uLcNonPeriodic': None, 'pmParallaxNdata': 1214, 'decl': 0.126243049656, 'rLcNonPeriodic': None, 'gFPFluxMeanErr': None, 'zFPFluxMean': None, 'nearbyObj1Dist': None, 'rFPFluxMeanErr': None, 'parallax': 2.124124050140381, 'yLcNonPeriodic': None, 'nearbyObj1LnP': None, 'nearbyObj3': None, 'gPSFluxChi2': None, 'rLcPeriodic': None, 'nearbyObj3LnP': None, 'pmDecl': 0.00014000000373926014, 'yLcPeriodic': None, 'yPSFluxSigma': None, 'gLcPeriodic': None, 'pmRa': 0.00013000000035390258, 'rPSFluxMean': None, 'uFPFluxSigma': None, 'ra_decl_Cov': {'raSigma': 0.0002800000074785203, 'ra_decl_Cov': 0.0002899999963119626, 'declSigma': 0.0002800000074785203}, 'iPSFluxChi2': None, 'zPSFluxSigma': None, 'yFPFluxMean': None}, 'diaSourcesL2': [{'iyy': None, 'apFluxErr': None, 'dipChi2': None, 'apFlux': None, 'dipDecl': None, 'trailRa': None, 'trailAngle': None, 'ra': 351.570546978, 'i_cov': None, 'flags': 0, 'dipAngle': None, 'psLnL': None, 'diaObjectId': None, 'dipFluxDiff': None, 'diaSourceId': 281323062375219198, 'totFlux': None, 'iyyPSF': None, 'filterName': 'r', 'trail_Cov': None, 'dipMeanFlux': None, 'totFluxErr': None, 'dip_Cov': None, 'fpBkgd': None, 'spuriousness': None, 'ixx': None, 'ps_Cov': None, 'ccdVisitId': 111111, 'dipLength': None, 'diffFlux': None, 'ixyPSF': None, 'trailNdata': None, 'trailDecl': None, 'trailLength': None, 'decl': 0.126243049656, 'ixxPSF': None, 'trailLnL': None, 'trailFlux': None, 'dipRa': None, 'midPointTai': 1480360995.0, 'x': 112.0999984741211, 'diffFluxErr': None, 'dipLnL': None, 'trailChi2': None, 'snr': 41.099998474121094, 'psRa': None, 'psFlux': 1241.0, 'ixy': None, 'parentDiaSourceId': None, 'fpBkgdErr': None, 'psNdata': None, 'ssObjectId': None, 'x_y_Cov': {'xSigma': 1.2000000476837158, 'x_y_Cov': 1.2000000476837158, 'ySigma': 1.100000023841858}, 'psDecl': None, 'ra_decl_Cov': {'raSigma': 0.0002800000074785203, 'ra_decl_Cov': 0.0002899999963119626, 'declSigma': 0.0002800000074785203}, 'y': 121.0999984741211, 'psChi2': None, 'dipNdata': None, 'extendedness': None}, {'iyy': None, 'apFluxErr': None, 'dipChi2': None, 'apFlux': None, 'dipDecl': None, 'trailRa': None, 'trailAngle': None, 'ra': 351.570546978, 'i_cov': None, 'flags': 0, 'dipAngle': None, 'psLnL': None, 'diaObjectId': None, 'dipFluxDiff': None, 'diaSourceId': 281323062375219199, 'totFlux': None, 'iyyPSF': None, 'filterName': 'r', 'trail_Cov': None, 'dipMeanFlux': None, 'totFluxErr': None, 'dip_Cov': None, 'fpBkgd': None, 'spuriousness': None, 'ixx': None, 'ps_Cov': None, 'ccdVisitId': 111111, 'dipLength': None, 'diffFlux': None, 'ixyPSF': None, 'trailNdata': None, 'trailDecl': None, 'trailLength': None, 'decl': 0.126243049656, 'ixxPSF': None, 'trailLnL': None, 'trailFlux': None, 'dipRa': None, 'midPointTai': 1480360995.0, 'x': 112.0999984741211, 'diffFluxErr': None, 'dipLnL': None, 'trailChi2': None, 'snr': 41.099998474121094, 'psRa': None, 'psFlux': 1241.0, 'ixy': None, 'parentDiaSourceId': None, 'fpBkgdErr': None, 'psNdata': None, 'ssObjectId': None, 'x_y_Cov': {'xSigma': 1.2000000476837158, 'x_y_Cov': 1.2000000476837158, 'ySigma': 1.100000023841858}, 'psDecl': None, 'ra_decl_Cov': {'raSigma': 0.0002800000074785203, 'ra_decl_Cov': 0.0002899999963119626, 'declSigma': 0.0002800000074785203}, 'y': 121.0999984741211, 'psChi2': None, 'dipNdata': None, 'extendedness': None}]}\n",
      "difference stamp exists:  True\n",
      "template stamp exists:  True\n"
     ]
    }
   ],
   "source": [
    "alert_stamp_avro_message = read_avro_data(alert_stamp_avro_data, alert_schema)\n",
    "message_text = {k: alert_stamp_avro_message[k] for k in alert_stamp_avro_message if k not in ['cutoutDifference', 'cutoutTemplate']}\n",
    "print(message_text)\n",
    "print('difference stamp exists: ', alert_stamp_avro_message['cutoutDifference'] != None)\n",
    "print('template stamp exists: ', alert_stamp_avro_message['cutoutTemplate'] != None)"
   ]
  },
  {
   "cell_type": "code",
   "execution_count": 32,
   "metadata": {
    "collapsed": false
   },
   "outputs": [
    {
     "name": "stdout",
     "output_type": "stream",
     "text": [
      "{'l1dbId': 222222222, 'prv_diaSources': [{'iyy': None, 'apFluxErr': None, 'dipChi2': None, 'apFlux': None, 'dipDecl': None, 'trailRa': None, 'trailAngle': None, 'ra': 351.570546978, 'i_cov': None, 'flags': 0, 'dipAngle': None, 'psLnL': None, 'diaObjectId': None, 'dipFluxDiff': None, 'diaSourceId': 281323062375219198, 'totFlux': None, 'iyyPSF': None, 'filterName': 'r', 'trail_Cov': None, 'dipMeanFlux': None, 'totFluxErr': None, 'dip_Cov': None, 'fpBkgd': None, 'spuriousness': None, 'ixx': None, 'ps_Cov': None, 'ccdVisitId': 111111, 'dipLength': None, 'diffFlux': None, 'ixyPSF': None, 'trailNdata': None, 'trailDecl': None, 'trailLength': None, 'decl': 0.126243049656, 'ixxPSF': None, 'trailLnL': None, 'trailFlux': None, 'dipRa': None, 'midPointTai': 1480360995.0, 'x': 112.0999984741211, 'diffFluxErr': None, 'dipLnL': None, 'trailChi2': None, 'snr': 41.099998474121094, 'psRa': None, 'psFlux': 1241.0, 'ixy': None, 'parentDiaSourceId': None, 'fpBkgdErr': None, 'psNdata': None, 'ssObjectId': None, 'x_y_Cov': {'xSigma': 1.2000000476837158, 'x_y_Cov': 1.2000000476837158, 'ySigma': 1.100000023841858}, 'psDecl': None, 'ra_decl_Cov': {'raSigma': 0.0002800000074785203, 'ra_decl_Cov': 0.0002899999963119626, 'declSigma': 0.0002800000074785203}, 'y': 121.0999984741211, 'psChi2': None, 'dipNdata': None, 'extendedness': None}, {'iyy': None, 'apFluxErr': None, 'dipChi2': None, 'apFlux': None, 'dipDecl': None, 'trailRa': None, 'trailAngle': None, 'ra': 351.570546978, 'i_cov': None, 'flags': 0, 'dipAngle': None, 'psLnL': None, 'diaObjectId': None, 'dipFluxDiff': None, 'diaSourceId': 281323062375219199, 'totFlux': None, 'iyyPSF': None, 'filterName': 'r', 'trail_Cov': None, 'dipMeanFlux': None, 'totFluxErr': None, 'dip_Cov': None, 'fpBkgd': None, 'spuriousness': None, 'ixx': None, 'ps_Cov': None, 'ccdVisitId': 111111, 'dipLength': None, 'diffFlux': None, 'ixyPSF': None, 'trailNdata': None, 'trailDecl': None, 'trailLength': None, 'decl': 0.126243049656, 'ixxPSF': None, 'trailLnL': None, 'trailFlux': None, 'dipRa': None, 'midPointTai': 1480360995.0, 'x': 112.0999984741211, 'diffFluxErr': None, 'dipLnL': None, 'trailChi2': None, 'snr': 41.099998474121094, 'psRa': None, 'psFlux': 1241.0, 'ixy': None, 'parentDiaSourceId': None, 'fpBkgdErr': None, 'psNdata': None, 'ssObjectId': None, 'x_y_Cov': {'xSigma': 1.2000000476837158, 'x_y_Cov': 1.2000000476837158, 'ySigma': 1.100000023841858}, 'psDecl': None, 'ra_decl_Cov': {'raSigma': 0.0002800000074785203, 'ra_decl_Cov': 0.0002899999963119626, 'declSigma': 0.0002800000074785203}, 'y': 121.0999984741211, 'psChi2': None, 'dipNdata': None, 'extendedness': None}], 'ssObject': {'MOID1': 3141.0, 'zH': None, 'uG2': 231.23129272460938, 'zG1': None, 'iG2': None, 'rG1': None, 'yG1Err': None, 'flags': 0, 'zG2Err': None, 'uG1': 32131.3125, 'yH': None, 'iG2Err': None, 'rG2Err': None, 'zG1Err': None, 'yG2': None, 'uG1Err': 31232.212890625, 'oe': {'aop': 344243.3, 'q': 6654.14, 'epoch': 134141.0, 'i': 5436.2344, 'e': 636.121, 'lan': 54325.34, 'M': 131.1241}, 'rH': None, 'arc': 2.124124050140381, 'iH': None, 'gG1Err': None, 'iHErr': None, 'uG2Err': 23132.23046875, 'iG1': None, 'gG2': None, 'yG2Err': None, 'rG2': None, 'orbFitNdata': 1214, 'orbFitChi2': 1341421.25, 'gHErr': None, 'rG1Err': None, 'moidLon2': 3142.23123, 'gG1': None, 'orbFitLnL': 1343141.0, 'gH': None, 'zHErr': None, 'rHErr': None, 'uHErr': 13213.212890625, 'yHErr': None, 'gG2Err': None, 'ssObjectId': 5364546, 'iG1Err': None, 'uH': 13231.2314453125, 'moidLon1': 2143.213, 'yG1': None, 'zG2': None, 'oe_Cov': None, 'MOID2': 23432.423828125}, 'diaObject': {'yPSFluxMeanErr': None, 'pmParallaxChi2': 0.00013000000035390258, 'zPSFluxMeanErr': None, 'zPSFluxNdata': None, 'nearbyObj2Dist': None, 'iPSFluxMeanErr': None, 'rPSFluxNdata': None, 'yPSFluxChi2': None, 'zFPFluxSigma': None, 'gPSFluxSigma': None, 'iFPFluxMeanErr': None, 'iPSFluxMean': None, 'uFPFluxMeanErr': None, 'ra': 351.570546978, 'nearbyObj3Dist': None, 'uPSFluxMeanErr': None, 'flags': 0, 'pmParallaxLnL': 0.00013000000035390258, 'uPSFluxSigma': None, 'nearbyObj2LnP': None, 'yPSFluxMean': None, 'iFPFluxMean': None, 'diaObjectId': 281323062375219201, 'zFPFluxMeanErr': None, 'yPSFluxNdata': None, 'gLcNonPeriodic': None, 'gPSFluxMean': None, 'iFPFluxSigma': None, 'rPSFluxSigma': None, 'iLcPeriodic': None, 'iPSFluxNdata': None, 'nearbyObj1': None, 'zPSFluxChi2': None, 'iLcNonPeriodic': None, 'uFPFluxMean': None, 'yFPFluxSigma': None, 'uPSFluxNdata': None, 'gFPFluxMean': None, 'rFPFluxSigma': None, 'yFPFluxMeanErr': None, 'zLcNonPeriodic': None, 'radecTai': 1480360995.0, 'gPSFluxNdata': None, 'pm_parallax_Cov': {'pmRa_pmDecl_Cov': 0.00013000000035390258, 'parallaxSigma': 0.00013000000035390258, 'pmDeclSigma': 0.00013000000035390258, 'pmRaSigma': 0.00013000000035390258, 'pmDecl_parallax_Cov': 0.00013000000035390258, 'pmRa_parallax_Cov': 0.00013000000035390258}, 'iPSFluxSigma': None, 'zPSFluxMean': None, 'gPSFluxMeanErr': None, 'zLcPeriodic': None, 'rPSFluxChi2': None, 'uPSFluxChi2': None, 'gFPFluxSigma': None, 'uLcPeriodic': None, 'rFPFluxMean': None, 'uPSFluxMean': None, 'nearbyObj2': None, 'rPSFluxMeanErr': None, 'uLcNonPeriodic': None, 'pmParallaxNdata': 1214, 'decl': 0.126243049656, 'rLcNonPeriodic': None, 'gFPFluxMeanErr': None, 'zFPFluxMean': None, 'nearbyObj1Dist': None, 'rFPFluxMeanErr': None, 'parallax': 2.124124050140381, 'yLcNonPeriodic': None, 'nearbyObj1LnP': None, 'nearbyObj3': None, 'gPSFluxChi2': None, 'rLcPeriodic': None, 'nearbyObj3LnP': None, 'pmDecl': 0.00014000000373926014, 'yLcPeriodic': None, 'yPSFluxSigma': None, 'gLcPeriodic': None, 'pmRa': 0.00013000000035390258, 'rPSFluxMean': None, 'uFPFluxSigma': None, 'ra_decl_Cov': {'raSigma': 0.0002800000074785203, 'ra_decl_Cov': 0.0002899999963119626, 'declSigma': 0.0002800000074785203}, 'iPSFluxChi2': None, 'zPSFluxSigma': None, 'yFPFluxMean': None}, 'diaSource': {'iyy': None, 'apFluxErr': None, 'dipChi2': None, 'apFlux': None, 'dipDecl': None, 'trailRa': None, 'trailAngle': None, 'ra': 351.570546978, 'i_cov': None, 'flags': 0, 'dipAngle': None, 'psLnL': None, 'diaObjectId': None, 'dipFluxDiff': None, 'diaSourceId': 281323062375219200, 'totFlux': None, 'iyyPSF': None, 'filterName': 'r', 'trail_Cov': None, 'dipMeanFlux': None, 'totFluxErr': None, 'dip_Cov': None, 'fpBkgd': None, 'spuriousness': None, 'ixx': None, 'ps_Cov': None, 'ccdVisitId': 111111, 'dipLength': None, 'diffFlux': None, 'ixyPSF': None, 'trailNdata': None, 'trailDecl': None, 'trailLength': None, 'decl': 0.126243049656, 'ixxPSF': None, 'trailLnL': None, 'trailFlux': None, 'dipRa': None, 'midPointTai': 1480360995.0, 'x': 112.0999984741211, 'diffFluxErr': None, 'dipLnL': None, 'trailChi2': None, 'snr': 41.099998474121094, 'psRa': None, 'psFlux': 1241.0, 'ixy': None, 'parentDiaSourceId': None, 'fpBkgdErr': None, 'psNdata': None, 'ssObjectId': None, 'x_y_Cov': {'xSigma': 1.2000000476837158, 'x_y_Cov': 1.2000000476837158, 'ySigma': 1.100000023841858}, 'psDecl': None, 'ra_decl_Cov': {'raSigma': 0.0002800000074785203, 'ra_decl_Cov': 0.0002899999963119626, 'declSigma': 0.0002800000074785203}, 'y': 121.0999984741211, 'psChi2': None, 'dipNdata': None, 'extendedness': None}, 'alertId': 1231321321, 'diaObjectL2': {'yPSFluxMeanErr': None, 'pmParallaxChi2': 0.00013000000035390258, 'zPSFluxMeanErr': None, 'zPSFluxNdata': None, 'nearbyObj2Dist': None, 'iPSFluxMeanErr': None, 'rPSFluxNdata': None, 'yPSFluxChi2': None, 'zFPFluxSigma': None, 'gPSFluxSigma': None, 'iFPFluxMeanErr': None, 'iPSFluxMean': None, 'uFPFluxMeanErr': None, 'ra': 351.570546978, 'nearbyObj3Dist': None, 'uPSFluxMeanErr': None, 'flags': 0, 'pmParallaxLnL': 0.00013000000035390258, 'uPSFluxSigma': None, 'nearbyObj2LnP': None, 'yPSFluxMean': None, 'iFPFluxMean': None, 'diaObjectId': 281323062375219201, 'zFPFluxMeanErr': None, 'yPSFluxNdata': None, 'gLcNonPeriodic': None, 'gPSFluxMean': None, 'iFPFluxSigma': None, 'rPSFluxSigma': None, 'iLcPeriodic': None, 'iPSFluxNdata': None, 'nearbyObj1': None, 'zPSFluxChi2': None, 'iLcNonPeriodic': None, 'uFPFluxMean': None, 'yFPFluxSigma': None, 'uPSFluxNdata': None, 'gFPFluxMean': None, 'rFPFluxSigma': None, 'yFPFluxMeanErr': None, 'zLcNonPeriodic': None, 'radecTai': 1480360995.0, 'gPSFluxNdata': None, 'pm_parallax_Cov': {'pmRa_pmDecl_Cov': 0.00013000000035390258, 'parallaxSigma': 0.00013000000035390258, 'pmDeclSigma': 0.00013000000035390258, 'pmRaSigma': 0.00013000000035390258, 'pmDecl_parallax_Cov': 0.00013000000035390258, 'pmRa_parallax_Cov': 0.00013000000035390258}, 'iPSFluxSigma': None, 'zPSFluxMean': None, 'gPSFluxMeanErr': None, 'zLcPeriodic': None, 'rPSFluxChi2': None, 'uPSFluxChi2': None, 'gFPFluxSigma': None, 'uLcPeriodic': None, 'rFPFluxMean': None, 'uPSFluxMean': None, 'nearbyObj2': None, 'rPSFluxMeanErr': None, 'uLcNonPeriodic': None, 'pmParallaxNdata': 1214, 'decl': 0.126243049656, 'rLcNonPeriodic': None, 'gFPFluxMeanErr': None, 'zFPFluxMean': None, 'nearbyObj1Dist': None, 'rFPFluxMeanErr': None, 'parallax': 2.124124050140381, 'yLcNonPeriodic': None, 'nearbyObj1LnP': None, 'nearbyObj3': None, 'gPSFluxChi2': None, 'rLcPeriodic': None, 'nearbyObj3LnP': None, 'pmDecl': 0.00014000000373926014, 'yLcPeriodic': None, 'yPSFluxSigma': None, 'gLcPeriodic': None, 'pmRa': 0.00013000000035390258, 'rPSFluxMean': None, 'uFPFluxSigma': None, 'ra_decl_Cov': {'raSigma': 0.0002800000074785203, 'ra_decl_Cov': 0.0002899999963119626, 'declSigma': 0.0002800000074785203}, 'iPSFluxChi2': None, 'zPSFluxSigma': None, 'yFPFluxMean': None}, 'diaSourcesL2': [{'iyy': None, 'apFluxErr': None, 'dipChi2': None, 'apFlux': None, 'dipDecl': None, 'trailRa': None, 'trailAngle': None, 'ra': 351.570546978, 'i_cov': None, 'flags': 0, 'dipAngle': None, 'psLnL': None, 'diaObjectId': None, 'dipFluxDiff': None, 'diaSourceId': 281323062375219198, 'totFlux': None, 'iyyPSF': None, 'filterName': 'r', 'trail_Cov': None, 'dipMeanFlux': None, 'totFluxErr': None, 'dip_Cov': None, 'fpBkgd': None, 'spuriousness': None, 'ixx': None, 'ps_Cov': None, 'ccdVisitId': 111111, 'dipLength': None, 'diffFlux': None, 'ixyPSF': None, 'trailNdata': None, 'trailDecl': None, 'trailLength': None, 'decl': 0.126243049656, 'ixxPSF': None, 'trailLnL': None, 'trailFlux': None, 'dipRa': None, 'midPointTai': 1480360995.0, 'x': 112.0999984741211, 'diffFluxErr': None, 'dipLnL': None, 'trailChi2': None, 'snr': 41.099998474121094, 'psRa': None, 'psFlux': 1241.0, 'ixy': None, 'parentDiaSourceId': None, 'fpBkgdErr': None, 'psNdata': None, 'ssObjectId': None, 'x_y_Cov': {'xSigma': 1.2000000476837158, 'x_y_Cov': 1.2000000476837158, 'ySigma': 1.100000023841858}, 'psDecl': None, 'ra_decl_Cov': {'raSigma': 0.0002800000074785203, 'ra_decl_Cov': 0.0002899999963119626, 'declSigma': 0.0002800000074785203}, 'y': 121.0999984741211, 'psChi2': None, 'dipNdata': None, 'extendedness': None}, {'iyy': None, 'apFluxErr': None, 'dipChi2': None, 'apFlux': None, 'dipDecl': None, 'trailRa': None, 'trailAngle': None, 'ra': 351.570546978, 'i_cov': None, 'flags': 0, 'dipAngle': None, 'psLnL': None, 'diaObjectId': None, 'dipFluxDiff': None, 'diaSourceId': 281323062375219199, 'totFlux': None, 'iyyPSF': None, 'filterName': 'r', 'trail_Cov': None, 'dipMeanFlux': None, 'totFluxErr': None, 'dip_Cov': None, 'fpBkgd': None, 'spuriousness': None, 'ixx': None, 'ps_Cov': None, 'ccdVisitId': 111111, 'dipLength': None, 'diffFlux': None, 'ixyPSF': None, 'trailNdata': None, 'trailDecl': None, 'trailLength': None, 'decl': 0.126243049656, 'ixxPSF': None, 'trailLnL': None, 'trailFlux': None, 'dipRa': None, 'midPointTai': 1480360995.0, 'x': 112.0999984741211, 'diffFluxErr': None, 'dipLnL': None, 'trailChi2': None, 'snr': 41.099998474121094, 'psRa': None, 'psFlux': 1241.0, 'ixy': None, 'parentDiaSourceId': None, 'fpBkgdErr': None, 'psNdata': None, 'ssObjectId': None, 'x_y_Cov': {'xSigma': 1.2000000476837158, 'x_y_Cov': 1.2000000476837158, 'ySigma': 1.100000023841858}, 'psDecl': None, 'ra_decl_Cov': {'raSigma': 0.0002800000074785203, 'ra_decl_Cov': 0.0002899999963119626, 'declSigma': 0.0002800000074785203}, 'y': 121.0999984741211, 'psChi2': None, 'dipNdata': None, 'extendedness': None}]}\n",
      "difference stamp exists:  True\n",
      "template stamp exists:  True\n"
     ]
    }
   ],
   "source": [
    "alert_stamp_fastavro_message = read_fastavro_data(alert_stamp_fastavro_data, alert_schema_json)\n",
    "message_text = {k: alert_stamp_fastavro_message[k] for k in alert_stamp_fastavro_message if k not in ['cutoutDifference', 'cutoutTemplate']}\n",
    "\n",
    "print(message_text)\n",
    "print('difference stamp exists: ', alert_stamp_fastavro_message['cutoutDifference'] != None)\n",
    "print('template stamp exists: ', alert_stamp_fastavro_message['cutoutTemplate'] != None)"
   ]
  },
  {
   "cell_type": "markdown",
   "metadata": {},
   "source": [
    "### timeit"
   ]
  },
  {
   "cell_type": "code",
   "execution_count": 33,
   "metadata": {
    "collapsed": false
   },
   "outputs": [
    {
     "name": "stdout",
     "output_type": "stream",
     "text": [
      "10000 loops, best of 3: 7.99 ms per loop\n"
     ]
    }
   ],
   "source": [
    "writeAvroTime_stamp = %timeit -o -n10000 (write_avro_data(alert_json, alert_schema)) "
   ]
  },
  {
   "cell_type": "code",
   "execution_count": 34,
   "metadata": {
    "collapsed": false
   },
   "outputs": [
    {
     "name": "stdout",
     "output_type": "stream",
     "text": [
      "10000 loops, best of 3: 7.34 ms per loop\n"
     ]
    }
   ],
   "source": [
    "readAvroTime_stamp = %timeit -o -n10000 (read_avro_data(alert_stamp_avro_data, alert_schema))"
   ]
  },
  {
   "cell_type": "code",
   "execution_count": 35,
   "metadata": {
    "collapsed": false
   },
   "outputs": [
    {
     "name": "stdout",
     "output_type": "stream",
     "text": [
      "10000 loops, best of 3: 1.84 ms per loop\n"
     ]
    }
   ],
   "source": [
    "writeFastAvroTime_stamp = %timeit -o -n10000 (write_fastavro_data(alert_json, alert_schema_json))"
   ]
  },
  {
   "cell_type": "code",
   "execution_count": 36,
   "metadata": {
    "collapsed": false
   },
   "outputs": [
    {
     "name": "stdout",
     "output_type": "stream",
     "text": [
      "10000 loops, best of 3: 648 µs per loop\n"
     ]
    }
   ],
   "source": [
    "readFastAvroTime_stamp = %timeit -o -n10000 (read_fastavro_data(alert_stamp_fastavro_data, alert_schema_json))"
   ]
  },
  {
   "cell_type": "markdown",
   "metadata": {},
   "source": [
    "## Comparison"
   ]
  },
  {
   "cell_type": "markdown",
   "metadata": {},
   "source": [
    "### Encoding"
   ]
  },
  {
   "cell_type": "markdown",
   "metadata": {},
   "source": [
    "Small message and simple schema"
   ]
  },
  {
   "cell_type": "code",
   "execution_count": 37,
   "metadata": {
    "collapsed": false
   },
   "outputs": [
    {
     "name": "stdout",
     "output_type": "stream",
     "text": [
      "avro messages serialized (alerts/sec): 5033 \n",
      "fastavro messages serialized (alerts/sec): 24654 \n",
      "fastavro speedup for simple schema: 4.90\n"
     ]
    }
   ],
   "source": [
    "print('avro messages serialized (alerts/sec): %d ' % (1/writeAvroTime_simple.best))\n",
    "print('fastavro messages serialized (alerts/sec): %d ' % (1/writeFastAvroTime_simple.best))\n",
    "print('fastavro speedup for simple schema: %0.2f' % (writeAvroTime_simple.best/writeFastAvroTime_simple.best))"
   ]
  },
  {
   "cell_type": "markdown",
   "metadata": {},
   "source": [
    "Alert schema, no stamps"
   ]
  },
  {
   "cell_type": "code",
   "execution_count": 38,
   "metadata": {
    "collapsed": false
   },
   "outputs": [
    {
     "name": "stdout",
     "output_type": "stream",
     "text": [
      "avro messages serialized (alerts/sec): 119 \n",
      "fastavro messages serialized (alerts/sec): 603 \n",
      "fastavro speedup for alert schema (no stamp): 5.06\n"
     ]
    }
   ],
   "source": [
    "print('avro messages serialized (alerts/sec): %d ' % (1/writeAvroTime_alert.best))\n",
    "print('fastavro messages serialized (alerts/sec): %d ' % (1/writeFastAvroTime_alert.best))\n",
    "print('fastavro speedup for alert schema (no stamp): %0.2f' % (writeAvroTime_alert.best/writeFastAvroTime_alert.best))"
   ]
  },
  {
   "cell_type": "markdown",
   "metadata": {},
   "source": [
    "Alert schema, with stamps"
   ]
  },
  {
   "cell_type": "code",
   "execution_count": 39,
   "metadata": {
    "collapsed": false
   },
   "outputs": [
    {
     "name": "stdout",
     "output_type": "stream",
     "text": [
      "avro messages serialized (alerts/sec): 125 \n",
      "fastavro messages serialized (alerts/sec): 542 \n",
      "fastavro speedup for alert schema (with stamp): 4.33\n"
     ]
    }
   ],
   "source": [
    "print('avro messages serialized (alerts/sec): %d ' % (1/writeAvroTime_stamp.best))\n",
    "print('fastavro messages serialized (alerts/sec): %d ' % (1/writeFastAvroTime_stamp.best))\n",
    "print('fastavro speedup for alert schema (with stamp): %0.2f' % (writeAvroTime_stamp.best/writeFastAvroTime_stamp.best))"
   ]
  },
  {
   "cell_type": "markdown",
   "metadata": {},
   "source": [
    "### Decoding"
   ]
  },
  {
   "cell_type": "markdown",
   "metadata": {},
   "source": [
    "Small message and simple schema"
   ]
  },
  {
   "cell_type": "code",
   "execution_count": 40,
   "metadata": {
    "collapsed": false
   },
   "outputs": [
    {
     "name": "stdout",
     "output_type": "stream",
     "text": [
      "avro messages deserialized (alerts/sec): 4252 \n",
      "fastavro messages deserialized (alerts/sec): 41689 \n",
      "fastavro speedup for simple schema: 9.80\n"
     ]
    }
   ],
   "source": [
    "print('avro messages deserialized (alerts/sec): %d ' % (1/readAvroTime_simple.best))\n",
    "print('fastavro messages deserialized (alerts/sec): %d ' % (1/readFastAvroTime_simple.best))\n",
    "print('fastavro speedup for simple schema: %0.2f' % (readAvroTime_simple.best/readFastAvroTime_simple.best))"
   ]
  },
  {
   "cell_type": "markdown",
   "metadata": {},
   "source": [
    "Alert schema, no stamps"
   ]
  },
  {
   "cell_type": "code",
   "execution_count": 41,
   "metadata": {
    "collapsed": false
   },
   "outputs": [
    {
     "name": "stdout",
     "output_type": "stream",
     "text": [
      "avro messages deserialized (alerts/sec): 141 \n",
      "fastavro messages deserialized (alerts/sec): 1749 \n",
      "fastavro speedup for alert schema (no stamp): 12.37\n"
     ]
    }
   ],
   "source": [
    "print('avro messages deserialized (alerts/sec): %d ' % (1/readAvroTime_alert.best))\n",
    "print('fastavro messages deserialized (alerts/sec): %d ' % (1/readFastAvroTime_alert.best))\n",
    "print('fastavro speedup for alert schema (no stamp): %0.2f' % (readAvroTime_alert.best/readFastAvroTime_alert.best))"
   ]
  },
  {
   "cell_type": "markdown",
   "metadata": {},
   "source": [
    "Alert schema, with stamps"
   ]
  },
  {
   "cell_type": "code",
   "execution_count": 42,
   "metadata": {
    "collapsed": false
   },
   "outputs": [
    {
     "name": "stdout",
     "output_type": "stream",
     "text": [
      "avro messages deserialized (alerts/sec): 136 \n",
      "fastavro messages deserialized (alerts/sec): 1542 \n",
      "fastavro speedup for alert schema (with stamp): 11.33\n"
     ]
    }
   ],
   "source": [
    "print('avro messages deserialized (alerts/sec): %d ' % (1/readAvroTime_stamp.best))\n",
    "print('fastavro messages deserialized (alerts/sec): %d ' % (1/readFastAvroTime_stamp.best))\n",
    "print('fastavro speedup for alert schema (with stamp): %0.2f' % (readAvroTime_stamp.best/readFastAvroTime_stamp.best))"
   ]
  }
 ],
 "metadata": {
  "anaconda-cloud": {},
  "kernelspec": {
   "display_name": "Python [conda env:fastavro]",
   "language": "python",
   "name": "conda-env-fastavro-py"
  },
  "language_info": {
   "codemirror_mode": {
    "name": "ipython",
    "version": 3
   },
   "file_extension": ".py",
   "mimetype": "text/x-python",
   "name": "python",
   "nbconvert_exporter": "python",
   "pygments_lexer": "ipython3",
   "version": "3.5.2"
  }
 },
 "nbformat": 4,
 "nbformat_minor": 1
}
